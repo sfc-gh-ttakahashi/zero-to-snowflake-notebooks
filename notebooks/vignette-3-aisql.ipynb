{
 "metadata": {
  "language_info": {
   "name": "python"
  },
  "lastEditStatus": {
   "notebookId": "5afdnok3t3thm2nqxauh",
   "authorId": "3933357949396",
   "authorName": "TTAKAHASHI",
   "authorEmail": "tatsuya.takahashi@snowflake.com",
   "sessionId": "8eee2827-c989-421d-944b-9d520124693a",
   "lastEditTime": 1760959870304
  }
 },
 "nbformat_minor": 2,
 "nbformat": 4,
 "cells": [
  {
   "cell_type": "markdown",
   "metadata": {
    "name": "cell1",
    "collapsed": false
   },
   "source": "# Zero to Snowflake - AISQL Functions\n\n```\nAsset:        Zero to Snowflake - AISQL Functions\nVersion:      v1     \nCopyright(c): 2025 Snowflake Inc. All rights reserved.\n```\n\n![IMAGES](https://lh3.googleusercontent.com/pw/AP1GczNQXvH9nD0-85OIo1jjfar5VYUjmTG7wpls3voC4zFmXcRTpg4QwxZxyOCtsLCNbcIuHLgSBGv-x7vEkMnTAirhXYHeUPNK9giZvQFNIZJQOzUFud1wQ1eRS158qGBTkBtJI54Yc9Yhpmg86Il4H8OB=w1500-h844-s-no-gm?authuser=0)\n\n![IMAGES](https://lh3.googleusercontent.com/pw/AP1GczNm8a6UL-SVn04eK7EmXaB9iVaNefQ4fUpYrSFScypSQA0Mc_wv4sb9uFFCqRbyWeMIf-Gcpk4oC4IJVMPkqPYx5trw3fnREAsTxR5Ny_Goy8hGCatMUplj5rRAQv9mUuFLbg1yq21fm6369FFWQ9Sh=w1500-h844-s-no-gm?authuser=0)\n\n![IMAGES](https://lh3.googleusercontent.com/pw/AP1GczMU3QqLcSuGc0fAohLN08qjHKNcZhefDR00974EqkaoSqWK2-d2IEsaiz4trhLEfw_MR94UIYImWEllX0BCQnn1A5j0t3sL-D3QoBwXQIzDOYYKy4wTD_l-54N0soNBTYOy6LrvBej8MB0qgGzoVbs5=w1500-h844-s-no-gm?authuser=0)\n\n![IMAGES](https://lh3.googleusercontent.com/pw/AP1GczN8jwbemv9nmNwIphkV5cKcSy9mNCHlfjTdDNwzFXG5QP9OBVLsUQ--iuAJZiH-lfkdTmNU-cyG8WiPM3nhuvgyjx6YY8_m1YovtlWGOno7I1LMXmnzjl0xhBoazyewLeT-2PptG8TKoJzUr1oEADW_=w1500-h844-s-no-gm?authuser=0)\n\n![IMAGES](https://lh3.googleusercontent.com/pw/AP1GczNlcULLcw7vXRzWZnTQSKpaZcPrbaTilaeNn1fn8h6we5R5ehRKo70jvGrDz05Fx3l-NiYGMLMWV_vpe-ha35udAhQ1lIHblpFsr1VNVvr5qEJUeIR5Rc-maKCwxSqUcPXA0k5tXXdtbOA_EakKWYvl=w1500-h844-s-no-gm?authuser=0)\n\n## 目次\n1. SENTIMENT()を使用してトラックの顧客レビューをポジティブ、ネガティブ、ニュートラルとしてスコア化・ラベル付け\n2. AI_CLASSIFY()を使用して食品品質やサービス体験などのテーマでレビューを分類\n3. EXTRACT_ANSWER()を使用してレビューテキストから特定の苦情や称賛を抽出\n4. AI_SUMMARIZE_AGG()を使用してトラックブランド名ごとの顧客センチメントの簡潔な要約を生成\n",
   "id": "ce110000-1111-2222-3333-ffffff000000"
  },
  {
   "cell_type": "code",
   "execution_count": null,
   "metadata": {
    "vscode": {
     "languageId": "sql"
    },
    "name": "cell2",
    "language": "sql"
   },
   "outputs": [],
   "source": [
    "ALTER SESSION SET query_tag = '{\"origin\":\"sf_sit-is\",\"name\":\"tb_101_v2_aisql\",\"version\":{\"major\":1, \"minor\":1},\"attributes\":{\"is_quickstart\":0, \"source\":\"tastybytes\", \"vignette\": \"aisql_functions\"}}';\n"
   ],
   "id": "ce110000-1111-2222-3333-ffffff000001"
  },
  {
   "cell_type": "markdown",
   "metadata": {
    "name": "cell3"
   },
   "source": [
    "顧客レビューからインサイトを得るためにAISSQL関数を活用することを意図したTasteBytesデータアナリストの役割を担うので、適切にコンテキストを設定しましょう。\n"
   ],
   "id": "ce110000-1111-2222-3333-ffffff000002"
  },
  {
   "cell_type": "code",
   "execution_count": null,
   "metadata": {
    "vscode": {
     "languageId": "sql"
    },
    "name": "cell4",
    "language": "sql"
   },
   "outputs": [],
   "source": [
    "USE ROLE tb_analyst;\n",
    "USE DATABASE tb_101;\n",
    "USE WAREHOUSE tb_analyst_wh;\n"
   ],
   "id": "ce110000-1111-2222-3333-ffffff000003"
  },
  {
   "cell_type": "markdown",
   "metadata": {
    "name": "cell5",
    "collapsed": false
   },
   "source": "## 1. 大規模なセンチメント分析\n\nすべてのフードトラックブランドの顧客センチメントを分析して、どのトラックが最高のパフォーマンスを発揮しているかを特定し、車両群全体の顧客満足度指標を作成します。Cortex Playgroundでは、個々のレビューを手動で分析しました。今度はSENTIMENT()関数を使用して、-1（ネガティブ）から+1（ポジティブ）まで、Snowflakeの公式センチメント範囲に従って顧客レビューを自動的にスコア化します。\n",
   "id": "ce110000-1111-2222-3333-ffffff000004"
  },
  {
   "cell_type": "markdown",
   "metadata": {
    "name": "cell6"
   },
   "source": [
    "**ビジネス質問：** 「各トラックブランドに対して顧客は全体的にどのように感じているか？」\n",
    "\n",
    "このクエリを実行してフードトラックネットワーク全体の顧客センチメントを分析し、フィードバックを分類してください\n"
   ],
   "id": "ce110000-1111-2222-3333-ffffff000005"
  },
  {
   "cell_type": "code",
   "execution_count": null,
   "metadata": {
    "vscode": {
     "languageId": "sql"
    },
    "name": "cell7",
    "language": "sql"
   },
   "outputs": [],
   "source": "SELECT\n    truck_brand_name,\n    COUNT(*) AS total_reviews,\n    AVG(CASE WHEN sentiment >= 0.5 THEN sentiment END) AS avg_positive_score,\n    AVG(CASE WHEN sentiment BETWEEN -0.5 AND 0.5 THEN sentiment END) AS avg_neutral_score,\n    AVG(CASE WHEN sentiment <= -0.5 THEN sentiment END) AS avg_negative_score\nFROM (\n    SELECT\n        truck_brand_name,\n        SNOWFLAKE.CORTEX.SENTIMENT (review) AS sentiment\n    FROM harmonized.truck_reviews_v\n    WHERE\n        language ILIKE '%en%'\n        AND review IS NOT NULL\n    LIMIT 10000\n)\nGROUP BY\n    truck_brand_name\nORDER BY total_reviews DESC;\n",
   "id": "ce110000-1111-2222-3333-ffffff000006"
  },
  {
   "cell_type": "markdown",
   "metadata": {
    "name": "cell8"
   },
   "source": [
    "### 主要なインサイト：\n",
    "Cortex Playgroundで一度に一つずつレビューを分析していたものから、数千件を体系的に処理することへの移行に注目してください。SENTIMENT()関数はすべてのレビューを自動的にスコア化し、ポジティブ、ネガティブ、ニュートラルに分類し、即座に車両群全体の顧客満足度指標を提供しました。\n",
    "\n",
    "### センチメントスコア範囲：\n",
    "- **ポジティブ:** 0.5 から 1\n",
    "- **ニュートラル:** -0.5 から 0.5\n",
    "- **ネガティブ:** -0.5 から -1\n"
   ],
   "id": "ce110000-1111-2222-3333-ffffff000007"
  },
  {
   "cell_type": "markdown",
   "id": "87ed2a38-c920-48e4-bc43-fd58421fb578",
   "metadata": {
    "name": "cell22",
    "collapsed": false
   },
   "source": "### 参考:AI_SENTIMENT 関数\n\n![IMAGES](https://lh3.googleusercontent.com/pw/AP1GczOl-mGz0N_RmsJ7ZG3Cl5j7NmuMe1A84rvLEr3Wt0sTbJcAOv0mm9fdAPlUYW-MwkvVfsveedNSCKADtk9C4rgZ7i5WqZoXRP1JbbOxgcrvp1qfSoQWgKqKd0PpXySMxQQPWtPyBULmBUGQ1ORppLda=w1500-h844-s-no-gm?authuser=0)\n\nAI_SENTIMENT は SENTIMENT （SNOWFLAKE.CORTEX） 関数の更新されたバージョンです。\n"
  },
  {
   "cell_type": "code",
   "id": "0a1cc620-d2e2-4ff0-bc1b-5c004163e0e2",
   "metadata": {
    "language": "sql",
    "name": "cell23"
   },
   "outputs": [],
   "source": "SELECT\n    truck_brand_name,\n    sentiment:categories[0].sentiment\nFROM (\n    SELECT\n        truck_brand_name,\n        AI_SENTIMENT (review) AS sentiment\n    FROM harmonized.truck_reviews_v\n    WHERE\n        language ILIKE '%en%'\n        AND review IS NOT NULL\n    LIMIT 10\n)",
   "execution_count": null
  },
  {
   "cell_type": "markdown",
   "metadata": {
    "name": "cell9",
    "collapsed": false
   },
   "source": "## 2. 顧客フィードバックの分類\n\n![IMAGES](https://lh3.googleusercontent.com/pw/AP1GczMXZhDTAurJJ0kwP04iOzpDq4TrfHexI5xT_KvOKzeFxStxGrIPtLetSUDV0MbtBMxEsyKveDkNjPwcAwuYnNh4WV-d0Q1qmalNyBry4rAxOZBS9LPs3m4E7GtTKRTb-UWlpqpTBTm6AJyBYSmzlmqL=w1500-h844-s-no-gm?authuser=0)\n\n次に、すべてのレビューを分類して、顧客がサービスのどの側面について最も多く話しているかを理解しましょう。単純なキーワードマッチングではなく、AI理解に基づいてレビューをユーザー定義カテゴリに自動的に分類するAI_CLASSIFY()関数を使用します。この段階では、顧客フィードバックをビジネス関連の運営分野に分類し、それらの分布パターンを分析します。\n",
   "id": "ce110000-1111-2222-3333-ffffff000008"
  },
  {
   "cell_type": "markdown",
   "metadata": {
    "name": "cell10"
   },
   "source": [
    "**ビジネス質問：** 「顧客は主に何についてコメントしているか - 食品品質、サービス、配達体験？」\n",
    "\n",
    "分類クエリを実行：\n"
   ],
   "id": "ce110000-1111-2222-3333-ffffff000009"
  },
  {
   "cell_type": "code",
   "execution_count": null,
   "metadata": {
    "vscode": {
     "languageId": "sql"
    },
    "name": "cell11",
    "language": "sql"
   },
   "outputs": [],
   "source": [
    "WITH classified_reviews AS (\n",
    "  SELECT\n",
    "    truck_brand_name,\n",
    "    AI_CLASSIFY(\n",
    "      review,\n",
    "      ['Food Quality', 'Pricing', 'Service Experience', 'Staff Behavior']\n",
    "    ):labels[0] AS feedback_category\n",
    "  FROM\n",
    "    harmonized.truck_reviews_v\n",
    "  WHERE\n",
    "    language ILIKE '%en%'\n",
    "    AND review IS NOT NULL\n",
    "    AND LENGTH(review) > 30\n",
    "  LIMIT\n",
    "    10000\n",
    ")\n",
    "SELECT\n",
    "  truck_brand_name,\n",
    "  feedback_category,\n",
    "  COUNT(*) AS number_of_reviews\n",
    "FROM\n",
    "  classified_reviews\n",
    "GROUP BY\n",
    "  truck_brand_name,\n",
    "  feedback_category\n",
    "ORDER BY\n",
    "  truck_brand_name,\n",
    "  number_of_reviews DESC;\n"
   ],
   "id": "ce110000-1111-2222-3333-ffffff000010"
  },
  {
   "cell_type": "markdown",
   "metadata": {
    "name": "cell12"
   },
   "source": [
    "### 主要なインサイト：\n",
    "AI_CLASSIFY()が数千のレビューを食品品質、サービス体験などのビジネス関連テーマに自動的に分類したことを観察してください。食品品質がトラックブランド全体で最も議論されるトピックであることがすぐにわかり、運営チームに顧客の優先事項についての明確で実行可能なインサイトを提供します。\n"
   ],
   "id": "ce110000-1111-2222-3333-ffffff000011"
  },
  {
   "cell_type": "markdown",
   "metadata": {
    "name": "cell13"
   },
   "source": [
    "## 3. 特定の運営インサイトの抽出\n",
    "\n",
    "次に、非構造化テキストから正確な回答を得るために、EXTRACT_ANSWER()関数を活用します。この強力な関数により、顧客フィードバックについて特定のビジネス質問を投げかけ、直接的な回答を受け取ることができます。この段階では、顧客レビューで言及されている正確な運営上の問題を特定し、即座の注意が必要な特定の問題を強調することが目標です。\n"
   ],
   "id": "ce110000-1111-2222-3333-ffffff000012"
  },
  {
   "cell_type": "markdown",
   "metadata": {
    "name": "cell14"
   },
   "source": [
    "**ビジネス質問：** 「各顧客レビュー内で言及されている特定の運営上の問題やポジティブな言及は何か？」\n",
    "\n",
    "次のクエリを実行しましょう：\n"
   ],
   "id": "ce110000-1111-2222-3333-ffffff000013"
  },
  {
   "cell_type": "code",
   "id": "cf63184b-1cde-4b0e-888b-40d414099d81",
   "metadata": {
    "language": "sql",
    "name": "cell24",
    "collapsed": false,
    "codeCollapsed": false
   },
   "outputs": [],
   "source": "SELECT\n    truck_brand_name,\n    review\nFROM \n    harmonized.truck_reviews_v\nLIMIT 10",
   "execution_count": null
  },
  {
   "cell_type": "code",
   "execution_count": null,
   "metadata": {
    "vscode": {
     "languageId": "sql"
    },
    "name": "cell15",
    "language": "sql"
   },
   "outputs": [],
   "source": [
    "  SELECT\n",
    "    truck_brand_name,\n",
    "    primary_city,\n",
    "    LEFT(review, 100) || '...' AS review_preview,\n",
    "    SNOWFLAKE.CORTEX.EXTRACT_ANSWER(\n",
    "        review,\n",
    "        'What specific improvement or complaint is mentioned in this review?'\n",
    "    ) AS specific_feedback\n",
    "FROM \n",
    "    harmonized.truck_reviews_v\n",
    "WHERE \n",
    "    language = 'en'\n",
    "    AND review IS NOT NULL\n",
    "    AND LENGTH(review) > 50\n",
    "ORDER BY truck_brand_name, primary_city ASC\n",
    "LIMIT 10000;\n"
   ],
   "id": "ce110000-1111-2222-3333-ffffff000014"
  },
  {
   "cell_type": "markdown",
   "metadata": {
    "name": "cell16"
   },
   "source": [
    "### 主要なインサイト：\n",
    "EXTRACT_ANSWER()が長い顧客レビューから具体的で実行可能なインサイトを抽出していることに注目してください。手動レビューではなく、この関数は「親切なスタッフが救いだった」や「ホットドッグは完璧に調理されている」などの具体的なフィードバックを自動的に特定します。結果は、密なテキストを運営チームが即座に活用できる具体的で引用可能なフィードバックに変換することです。\n"
   ],
   "id": "ce110000-1111-2222-3333-ffffff000015"
  },
  {
   "cell_type": "markdown",
   "metadata": {
    "name": "cell17",
    "collapsed": false
   },
   "source": "## 4. エグゼクティブサマリーの生成\n\n![IMAGES](https://lh3.googleusercontent.com/pw/AP1GczPB6NYcPP1mV6kEyK--xFlMcxI6GMA99NKKNEy6y70QHrZNyYP5aE-_guGSWshdoJ_biFVvL9RQ9F3IhSpxOdRmZAD9u0bqRru7GamyCbIB6072KSrHEUPp7Q4aQiw4NtR4-M5cl_H0JcpIsXQAXInO=w1500-h844-s-no-gm?authuser=0)\n\n最後に、顧客フィードバックの簡潔な要約を作成するために、AI_SUMMARIZE_AGG()関数を使用します。この強力な関数は、長い非構造化テキストから短く一貫した要約を生成します。この段階では、各トラックブランドの顧客レビューの本質を消化しやすい要約に凝縮し、全体的なセンチメントとキーポイントの簡潔な概要を提供することが目標です。\n",
   "id": "ce110000-1111-2222-3333-ffffff000016"
  },
  {
   "cell_type": "markdown",
   "metadata": {
    "name": "cell18"
   },
   "source": [
    "**ビジネス質問：** 「各トラックブランドのキーテーマと全体的なセンチメントは何か？」\n",
    "\n",
    "要約クエリを実行：\n"
   ],
   "id": "ce110000-1111-2222-3333-ffffff000017"
  },
  {
   "cell_type": "code",
   "execution_count": null,
   "metadata": {
    "vscode": {
     "languageId": "sql"
    },
    "name": "cell19",
    "language": "sql"
   },
   "outputs": [],
   "source": [
    "SELECT\n",
    "  truck_brand_name,\n",
    "  AI_SUMMARIZE_AGG (review) AS review_summary\n",
    "FROM\n",
    "  (\n",
    "    SELECT\n",
    "      truck_brand_name,\n",
    "      review\n",
    "    FROM\n",
    "      harmonized.truck_reviews_v\n",
    "    LIMIT\n",
    "      100\n",
    "  )\n",
    "GROUP BY\n",
    "  truck_brand_name;\n"
   ],
   "id": "ce110000-1111-2222-3333-ffffff000018"
  },
  {
   "cell_type": "markdown",
   "metadata": {
    "name": "cell20",
    "collapsed": false
   },
   "source": [
    "### 主要なインサイト：\n",
    "AI_SUMMARIZE_AGG()関数は、長いレビューを明確なブランドレベルの要約に凝縮します。これらの要約は、反復テーマとセンチメントトレンドを強調し、決定者に各フードトラックのパフォーマンスの簡潔な概要を提供し、個々のレビューを読むことなく顧客認識をより迅速に理解できるようにします。\n"
   ],
   "id": "ce110000-1111-2222-3333-ffffff000019"
  },
  {
   "cell_type": "markdown",
   "metadata": {
    "name": "cell21",
    "collapsed": false
   },
   "source": "---\n\n## まとめ\n\n![IMAGES](https://lh3.googleusercontent.com/pw/AP1GczMLh9iSt6uWid0mD34viEtp3zvsf1qSiM8G41rjUrhHvmYw2v4epHmtMMaTA_gzu34iw1Sm4hqM3t02Imm7NKu8zTdhBeSBlvwfOP9qGzIqN5g8t6D1gr1OE4xDXa7sb2_jWN8bIKWTP8d1hcjdLmuq=w1500-h844-s-no-gm?authuser=0)\n\n私たちは、AI SQL関数の変革的な力を成功裏に実証し、顧客フィードバック分析を個々のレビュー処理から体系的で本格的な規模のインテリジェンスへと移行させました。これら4つのコア関数を通じた私たちの旅路は、それぞれが明確な分析目的を果たし、生の顧客の声を包括的なビジネスインテリジェンスに変換することを明確に示しています—体系的で、スケーラブルで、即座に実行可能です。かつて個々のレビュー分析を必要としていたものが、今では数秒で数千のレビューを処理し、データ駆動型の運営改善に不可欠な感情的コンテキストと具体的な詳細の両方を提供します。\n\n分析がより洗練されるにつれて、複雑なクエリで複数のAI関数を組み合わせることが困難になる場合があります。これはまさにSnowflake Copilotが強力な支援を提供する場面です。Copilotが自然言語を使用して複雑なクエリを作成し、作業を大幅に加速する方法を探ってみましょう。これにより、より複雑な分析ワークフローを簡単に構築できるようになります。\n",
   "id": "ce110000-1111-2222-3333-ffffff000020"
  }
 ]
}
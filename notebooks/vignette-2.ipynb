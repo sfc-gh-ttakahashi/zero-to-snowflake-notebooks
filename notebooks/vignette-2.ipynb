{
 "metadata": {
  "language_info": {
   "name": "python"
  },
  "lastEditStatus": {
   "notebookId": "3jmrdn6i554ivrmwt6vb",
   "authorId": "3933357949396",
   "authorName": "TTAKAHASHI",
   "authorEmail": "tatsuya.takahashi@snowflake.com",
   "sessionId": "4b4dc8e8-4d8e-4399-b7c8-a059e7216c7e",
   "lastEditTime": 1760956495685
  }
 },
 "nbformat_minor": 2,
 "nbformat": 4,
 "cells": [
  {
   "cell_type": "markdown",
   "metadata": {
    "name": "cell1",
    "collapsed": false
   },
   "source": "# Zero to Snowflake - Simple Data Pipeline\n\n```\nAsset:        Zero to Snowflake - Simple Data Pipeline\nVersion:      v1     \nCopyright(c): 2025 Snowflake Inc. All rights reserved.\n```\n\n![IMAGE](https://lh3.googleusercontent.com/pw/AP1GczMr1dOT-Ee2Wrt5ZcoPVt38BesU6Uw36AMy9aBN-0OejqI_kYVcyoWNwp1CSXS09hY0EijMg2tvG8nYfj0JGWGmXWaWMCJuXvqOU7laOk-Ek5gq4m1xi3w13BWMrsXYj1u0Tuob89SRXYkWJg15aqNI=w1500-h844-s-no-gm?authuser=0)\n\n## 目次\n1. 外部ステージからの取り込み\n2. 半構造化データとVARIANTデータ型\n3. 動的テーブル\n4. 動的テーブルによるシンプルなパイプライン\n5. 有向非循環グラフ（DAG）によるパイプライン可視化\n",
   "id": "ce110000-1111-2222-3333-ffffff000000"
  },
  {
   "cell_type": "code",
   "execution_count": null,
   "metadata": {
    "vscode": {
     "languageId": "sql"
    },
    "name": "cell2",
    "language": "sql"
   },
   "outputs": [],
   "source": [
    "ALTER SESSION SET query_tag = '{\"origin\":\"sf_sit-is\",\"name\":\"tb_101_v2\",\"version\":{\"major\":1, \"minor\":1},\"attributes\":{\"is_quickstart\":0, \"source\":\"tastybytes\", \"vignette\": \"data_pipeline\"}}';\n"
   ],
   "id": "ce110000-1111-2222-3333-ffffff000001"
  },
  {
   "cell_type": "markdown",
   "metadata": {
    "name": "cell3"
   },
   "source": [
    "生のメニューデータでデータパイプラインを作成することを意図したTasteBytesデータエンジニアの役割を担うので、適切にコンテキストを設定しましょう。\n"
   ],
   "id": "ce110000-1111-2222-3333-ffffff000002"
  },
  {
   "cell_type": "code",
   "execution_count": null,
   "metadata": {
    "vscode": {
     "languageId": "sql"
    },
    "name": "cell4",
    "language": "sql"
   },
   "outputs": [],
   "source": [
    "USE DATABASE tb_101;\n",
    "USE ROLE tb_data_engineer;\n",
    "USE WAREHOUSE tb_de_wh;\n"
   ],
   "id": "ce110000-1111-2222-3333-ffffff000003"
  },
  {
   "cell_type": "markdown",
   "metadata": {
    "name": "cell5",
    "collapsed": false
   },
   "source": "## 1. 外部ステージからの取り込み\n\n![IMAGE](https://lh3.googleusercontent.com/pw/AP1GczPajL6mbHL7018mOoqNDUMrfEe3Zt5vdgEe8lBSyx39uWGKSloUDs5fKVHPstgejr-AK3WYDkTAirL8q7tV3Nxkn0oZtOxpEonClhmNVKJPXLOXuKRgem5dX4JrESdH-R46c140imnDoDTWjj1aREnQ=w1500-h844-s-no-gm?authuser=0)\n\n![IMAGE](https://lh3.googleusercontent.com/pw/AP1GczNJLBt9V5VCzSZDWKTvVOUevnT-8zgONhl-myM8N1atMdm_WGteiQG_UKoY1ruUzRLxfF4YWM9AFrqvmn3ZFyRNf5hO0LOl0XaZNVtWZpWFTjYw0NW2amSWH6PMfJwf32RGu-FuMoM-snetd2SQFAbA=w1500-h844-s-no-gm?authuser=0)\n\n**SQLリファレンス:**  \nhttps://docs.snowflake.com/en/sql-reference/sql/copy-into-table\n\n現在、データはAmazon S3バケットにCSV形式で保存されています。この生のCSVデータをステージにロードして、作業用のステージングテーブルにCOPYできるようにする必要があります。\n\nSnowflakeでは、ステージはデータファイルが保存される場所を指定する名前付きデータベースオブジェクトで、テーブルへのデータの読み込みとテーブルからのデータの書き出しを可能にします。\n\n### ステージを作成するときに指定するもの:\n- データを取得するS3バケット\n- データを解析するファイル形式（この場合はCSV）\n",
   "id": "ce110000-1111-2222-3333-ffffff000004"
  },
  {
   "cell_type": "code",
   "execution_count": null,
   "metadata": {
    "vscode": {
     "languageId": "sql"
    },
    "name": "cell6",
    "language": "sql"
   },
   "outputs": [],
   "source": [
    "-- menu_stage ステージを作成\n",
    "CREATE OR REPLACE STAGE raw_pos.menu_stage\n",
    "COMMENT = 'メニューデータ用ステージ'\n",
    "URL = 's3://sfquickstarts/frostbyte_tastybytes/raw_pos/menu/'\n",
    "FILE_FORMAT = public.csv_ff;\n"
   ],
   "id": "ce110000-1111-2222-3333-ffffff000005"
  },
  {
   "cell_type": "code",
   "execution_count": null,
   "metadata": {
    "vscode": {
     "languageId": "sql"
    },
    "name": "cell7",
    "language": "sql"
   },
   "outputs": [],
   "source": [
    "CREATE OR REPLACE TABLE raw_pos.menu_staging\n",
    "(\n",
    "    menu_id NUMBER(19,0),\n",
    "    menu_type_id NUMBER(38,0),\n",
    "    menu_type VARCHAR(16777216),\n",
    "    truck_brand_name VARCHAR(16777216),\n",
    "    menu_item_id NUMBER(38,0),\n",
    "    menu_item_name VARCHAR(16777216),\n",
    "    item_category VARCHAR(16777216),\n",
    "    item_subcategory VARCHAR(16777216),\n",
    "    cost_of_goods_usd NUMBER(38,4),\n",
    "    sale_price_usd NUMBER(38,4),\n",
    "    menu_item_health_metrics_obj VARIANT\n",
    ");\n"
   ],
   "id": "ce110000-1111-2222-3333-ffffff000006"
  },
  {
   "cell_type": "markdown",
   "metadata": {
    "name": "cell8"
   },
   "source": [
    "ステージとテーブルが準備できたので、ステージから新しいmenu_stagingテーブルにデータをロードしましょう。\n"
   ],
   "id": "ce110000-1111-2222-3333-ffffff000007"
  },
  {
   "cell_type": "code",
   "execution_count": null,
   "metadata": {
    "vscode": {
     "languageId": "sql"
    },
    "name": "cell9",
    "language": "sql"
   },
   "outputs": [],
   "source": [
    "COPY INTO raw_pos.menu_staging\n",
    "FROM @raw_pos.menu_stage;\n"
   ],
   "id": "ce110000-1111-2222-3333-ffffff000008"
  },
  {
   "cell_type": "code",
   "execution_count": null,
   "metadata": {
    "vscode": {
     "languageId": "sql"
    },
    "name": "cell10",
    "language": "sql"
   },
   "outputs": [],
   "source": [
    "-- オプション：ロードの成功を確認\n",
    "SELECT * FROM raw_pos.menu_staging;\n"
   ],
   "id": "ce110000-1111-2222-3333-ffffff000009"
  },
  {
   "cell_type": "markdown",
   "metadata": {
    "name": "cell11",
    "collapsed": false
   },
   "source": "## 2. Snowflakeでの半構造化データ\n\n![IMAGE](https://lh3.googleusercontent.com/pw/AP1GczNx397mHGvd-F3yGBj08dOpB0hYEzsIsqcPRej6Mv9bJYaAwqbMXaW4ZD-p3Mkk9amH4ccQ9r1hPwpUMtNvu-ib8AvMnRc7CkxJF45VikvpfdXcAvYRjNTwaZZORczzQpkNzh1tkc3lq1YvrcmUcKrT=w1500-h844-s-no-gm?authuser=0)\n\n**ユーザーガイド:**  \nhttps://docs.snowflake.com/en/sql-reference/data-types-semistructured\n\nSnowflakeはVARIANTデータ型を使用してJSONなどの半構造化データの処理に優れています。このデータを自動的に解析、最適化、インデックス化し、ユーザーが標準SQLと専用関数を使用して簡単に抽出・分析できるようにします。Snowflakeは、JSON、Avro、ORC、Parquet、XMLなどの半構造化データ型をサポートしています。\n\nmenu_item_health_metrics_obj列のVARIANTオブジェクトには、2つの主要なキー値ペアが含まれています：\n- **menu_item_id:** アイテムの一意識別子を表す数値\n- **menu_item_health_metrics:** 健康情報の詳細を保持するオブジェクトの配列\n\nmenu_item_health_metrics配列内の各オブジェクトには：\n- 文字列の配列である原材料（ingredients）配列\n- 'Y'と'N'の文字列値を持つ複数の食事フラグ\n",
   "id": "ce110000-1111-2222-3333-ffffff000010"
  },
  {
   "cell_type": "code",
   "execution_count": null,
   "metadata": {
    "vscode": {
     "languageId": "sql"
    },
    "name": "cell12",
    "language": "sql"
   },
   "outputs": [],
   "source": [
    "SELECT menu_item_health_metrics_obj FROM raw_pos.menu_staging;\n"
   ],
   "id": "ce110000-1111-2222-3333-ffffff000011"
  },
  {
   "cell_type": "markdown",
   "metadata": {
    "name": "cell13"
   },
   "source": [
    "このクエリは、データの内部のJSON様構造をナビゲートするために特別な構文を使用します。コロン演算子（:）はキー名でデータにアクセスし、角括弧（[]）は数値位置で配列から要素を選択します。これらの演算子は、ネストしたオブジェクトから原材料リストを抽出するためにしばしば連鎖されます。\n",
    "\n",
    "VARIANTオブジェクトから取得された要素はVARIANT型のまま残ります。これらの要素を既知のデータ型にキャストすることで、クエリパフォーマンスが向上し、データ品質が向上します。キャストを実現する方法は2つあります：\n",
    "- CAST関数\n",
    "- 短縮構文の使用: `<source_expr> :: <target_data_type>`\n",
    "\n",
    "以下は、これらすべてのトピックを組み合わせて、メニュー項目名、メニュー項目ID、必要な原材料のリストを取得するクエリです。\n"
   ],
   "id": "ce110000-1111-2222-3333-ffffff000012"
  },
  {
   "cell_type": "code",
   "execution_count": null,
   "metadata": {
    "vscode": {
     "languageId": "sql"
    },
    "name": "cell14",
    "language": "sql"
   },
   "outputs": [],
   "source": [
    "SELECT\n",
    "    menu_item_name,\n",
    "    CAST(menu_item_health_metrics_obj:menu_item_id AS INTEGER) AS menu_item_id, -- 'AS'を使用したキャスト\n",
    "    menu_item_health_metrics_obj:menu_item_health_metrics[0]:ingredients::ARRAY AS ingredients -- ダブルコロン（::）構文を使用したキャスト\n",
    "FROM raw_pos.menu_staging;\n"
   ],
   "id": "ce110000-1111-2222-3333-ffffff000013"
  },
  {
   "cell_type": "markdown",
   "metadata": {
    "name": "cell15"
   },
   "source": [
    "半構造化データを扱うときに活用できる別の強力な関数はFLATTENです。FLATTENにより、JSONや配列などの半構造化データを展開し、指定されたオブジェクト内のすべての要素に対して行を生成できます。\n",
    "\n",
    "これを使用して、トラックが使用するすべてのメニューからすべての原材料のリストを取得できます。\n"
   ],
   "id": "ce110000-1111-2222-3333-ffffff000014"
  },
  {
   "cell_type": "code",
   "execution_count": null,
   "metadata": {
    "vscode": {
     "languageId": "sql"
    },
    "name": "cell16",
    "language": "sql"
   },
   "outputs": [],
   "source": [
    "SELECT\n",
    "    i.value::STRING AS ingredient_name,\n",
    "    m.menu_item_health_metrics_obj:menu_item_id::INTEGER AS menu_item_id\n",
    "FROM\n",
    "    raw_pos.menu_staging m,\n",
    "    LATERAL FLATTEN(INPUT => m.menu_item_health_metrics_obj:menu_item_health_metrics[0]:ingredients::ARRAY) i;\n"
   ],
   "id": "ce110000-1111-2222-3333-ffffff000015"
  },
  {
   "cell_type": "markdown",
   "metadata": {
    "name": "cell17",
    "collapsed": false
   },
   "source": "## 3. 動的テーブル(Dynamic Table)\n\n![IMAGE](https://lh3.googleusercontent.com/pw/AP1GczPmBi7Mp_m5FyQELlhF1nAdlZebR1UQJmokVHV2O4IDzESuMUMe1I7XfPfChUtzbxw9LmgocICC4SADApA00yZf2Cp3svxYzyB25eSLU7s6Fcnehq-gUDRA5sUSEQQZWC5GNhnh5Nmb-zsckhp2K-sG=w1500-h844-s-no-gm?authuser=0)\n\n**ユーザーガイド:**  \nhttps://docs.snowflake.com/en/user-guide/dynamic-tables-about\n\nすべての原材料を構造化形式で保存して、個別に簡単にクエリ、フィルタリング、分析できれば良いでしょう。しかし、フードトラック事業者は新しくエキサイティングなメニュー項目を常にメニューに追加しており、その多くはデータベースにまだない独特な原材料を使用しています。\n\nこれには、データ変換パイプラインを簡素化するために設計された強力なツールである動的テーブルを使用できます。動的テーブルは、いくつかの理由で使用事例に最適です：\n- 宣言的構文で作成され、指定されたクエリによってデータが定義されます。\n- 自動データ更新により、手動更新やカスタムスケジューリングなしにデータが新鮮に保たれます。\n- Snowflake動的テーブルによって管理されるデータの新鮮さは、動的テーブル自体だけでなく、それに依存する下流のデータオブジェクトにも及びます。\n\nこれらの機能を実際に確認するために、シンプルな動的テーブルパイプラインを作成し、ステージングテーブルに新しいメニュー項目を追加して自動更新を実演します。\n\n原材料用の動的テーブルを作成することから始めます。\n",
   "id": "ce110000-1111-2222-3333-ffffff000016"
  },
  {
   "cell_type": "code",
   "execution_count": null,
   "metadata": {
    "vscode": {
     "languageId": "sql"
    },
    "name": "cell18",
    "language": "sql"
   },
   "outputs": [],
   "source": [
    "CREATE OR REPLACE DYNAMIC TABLE harmonized.ingredient\n",
    "    LAG = '1 minute'\n",
    "    WAREHOUSE = 'TB_DE_WH'\n",
    "AS\n",
    "    SELECT\n",
    "    ingredient_name,\n",
    "    menu_ids\n",
    "FROM (\n",
    "    SELECT DISTINCT\n",
    "        i.value::STRING AS ingredient_name, -- 重複しない原材料の値\n",
    "        ARRAY_AGG(m.menu_item_id) AS menu_ids -- 原材料が使用されるメニューIDの配列\n",
    "    FROM\n",
    "        raw_pos.menu_staging m,\n",
    "        LATERAL FLATTEN(INPUT => menu_item_health_metrics_obj:menu_item_health_metrics[0]:ingredients::ARRAY) i\n",
    "    GROUP BY i.value::STRING\n",
    ");\n"
   ],
   "id": "ce110000-1111-2222-3333-ffffff000017"
  },
  {
   "cell_type": "code",
   "execution_count": null,
   "metadata": {
    "vscode": {
     "languageId": "sql"
    },
    "name": "cell19",
    "language": "sql"
   },
   "outputs": [],
   "source": [
    "-- ingredient動的テーブルが正常に作成されたことを確認しましょう\n",
    "SELECT * FROM harmonized.ingredient;\n"
   ],
   "id": "ce110000-1111-2222-3333-ffffff000018"
  },
  {
   "cell_type": "markdown",
   "metadata": {
    "name": "cell20"
   },
   "source": [
    "サンドイッチトラックの1つ「Better Off Bread」が新しいメニュー項目、バインミーサンドイッチを導入しました。このメニュー項目では、フランスパン、マヨネーズ、ピクルス大根などの新しい原材料が導入されます。\n",
    "\n",
    "動的テーブルの自動更新により、この新しいメニュー項目でmenu_stagingテーブルを更新すると、自動的にingredientテーブルに反映されます。\n"
   ],
   "id": "ce110000-1111-2222-3333-ffffff000019"
  },
  {
   "cell_type": "code",
   "execution_count": null,
   "metadata": {
    "vscode": {
     "languageId": "sql"
    },
    "name": "cell21",
    "language": "sql"
   },
   "outputs": [],
   "source": [
    "INSERT INTO raw_pos.menu_staging \n",
    "SELECT \n",
    "    10101,\n",
    "    15, -- トラックID\n",
    "    'Sandwiches',\n",
    "    'Better Off Bread', -- トラックブランド名\n",
    "    157, -- メニュー項目ID\n",
    "    'Banh Mi', -- メニュー項目名\n",
    "    'Main',\n",
    "    'Cold Option',\n",
    "    9.0,\n",
    "    12.0,\n",
    "    PARSE_JSON('{\n",
    "      \"menu_item_health_metrics\": [\n",
    "        {\n",
    "          \"ingredients\": [\n",
    "            \"French Baguette\",\n",
    "            \"Mayonnaise\",\n",
    "            \"Pickled Daikon\",\n",
    "            \"Cucumber\",\n",
    "            \"Pork Belly\"\n",
    "          ],\n",
    "          \"is_dairy_free_flag\": \"N\",\n",
    "          \"is_gluten_free_flag\": \"N\",\n",
    "          \"is_healthy_flag\": \"Y\",\n",
    "          \"is_nut_free_flag\": \"Y\"\n",
    "        }\n",
    "      ],\n",
    "      \"menu_item_id\": 157\n",
    "    }'\n",
    ");\n"
   ],
   "id": "ce110000-1111-2222-3333-ffffff000020"
  },
  {
   "cell_type": "markdown",
   "metadata": {
    "name": "cell22"
   },
   "source": [
    "フランスパン、ピクルス大根が原材料テーブルに表示されていることを確認してください。「クエリは結果を生成しませんでした」と表示される場合があります。これは動的テーブルがまだ更新されていないことを意味します。動的テーブルのラグ設定が追いつくまで最大1分間お待ちください。\n"
   ],
   "id": "ce110000-1111-2222-3333-ffffff000021"
  },
  {
   "cell_type": "code",
   "execution_count": null,
   "metadata": {
    "vscode": {
     "languageId": "sql"
    },
    "name": "cell23",
    "language": "sql"
   },
   "outputs": [],
   "source": [
    "SELECT * FROM harmonized.ingredient \n",
    "WHERE ingredient_name IN ('French Baguette', 'Pickled Daikon');\n"
   ],
   "id": "ce110000-1111-2222-3333-ffffff000022"
  },
  {
   "cell_type": "markdown",
   "metadata": {
    "name": "cell24"
   },
   "source": [
    "## 4. 動的テーブルによるシンプルなパイプライン\n",
    "\n",
    "ingredient_to_menu_lookup動的テーブルを作成しましょう。これにより、特定の原材料を使用するメニュー項目を確認できます。その後、どのトラックにどの原材料が必要で、どのくらいの量が必要かを判断できます。このテーブルも動的テーブルなので、menu_stagingテーブルに追加されたメニュー項目で新しい原材料が使用された場合、自動的に更新されます。\n"
   ],
   "id": "ce110000-1111-2222-3333-ffffff000023"
  },
  {
   "cell_type": "code",
   "execution_count": null,
   "metadata": {
    "vscode": {
     "languageId": "sql"
    },
    "name": "cell25",
    "language": "sql"
   },
   "outputs": [],
   "source": [
    "CREATE OR REPLACE DYNAMIC TABLE harmonized.ingredient_to_menu_lookup\n",
    "    LAG = '1 minute'\n",
    "    WAREHOUSE = 'TB_DE_WH'    \n",
    "AS\n",
    "SELECT\n",
    "    i.ingredient_name,\n",
    "    m.menu_item_health_metrics_obj:menu_item_id::INTEGER AS menu_item_id\n",
    "FROM\n",
    "    raw_pos.menu_staging m,\n",
    "    LATERAL FLATTEN(INPUT => m.menu_item_health_metrics_obj:menu_item_health_metrics[0]:ingredients) f\n",
    "JOIN harmonized.ingredient i ON f.value::STRING = i.ingredient_name;\n"
   ],
   "id": "ce110000-1111-2222-3333-ffffff000024"
  },
  {
   "cell_type": "code",
   "execution_count": null,
   "metadata": {
    "vscode": {
     "languageId": "sql"
    },
    "name": "cell26",
    "language": "sql"
   },
   "outputs": [],
   "source": [
    "-- ingredient_to_menu_lookup動的テーブルが正常に作成されたことを確認\n",
    "SELECT * \n",
    "FROM harmonized.ingredient_to_menu_lookup\n",
    "ORDER BY menu_item_id;\n"
   ],
   "id": "ce110000-1111-2222-3333-ffffff000025"
  },
  {
   "cell_type": "markdown",
   "metadata": {
    "name": "cell27"
   },
   "source": [
    "次の2つのinsertクエリを実行して、2022年1月27日にトラック#15でバインミーサンドイッチ2個の注文をシミュレートします。その後、トラック別の原材料使用量を示す別の下流動的テーブルを作成します。\n"
   ],
   "id": "ce110000-1111-2222-3333-ffffff000026"
  },
  {
   "cell_type": "code",
   "execution_count": null,
   "metadata": {
    "vscode": {
     "languageId": "sql"
    },
    "name": "cell28",
    "language": "sql"
   },
   "outputs": [],
   "source": [
    "INSERT INTO raw_pos.order_header\n",
    "SELECT \n",
    "    459520441, -- order_id\n",
    "    15, -- トラックID\n",
    "    1030, -- 位置ID\n",
    "    101565,\n",
    "    null,\n",
    "    200322900,\n",
    "    TO_TIMESTAMP_NTZ('08:00:00', 'hh:mi:ss'),\n",
    "    TO_TIMESTAMP_NTZ('14:00:00', 'hh:mi:ss'),\n",
    "    null,\n",
    "    TO_TIMESTAMP_NTZ('2022-01-27 08:21:08.000'), -- 注文タイムスタンプ\n",
    "    null,\n",
    "    'USD',\n",
    "    14.00,\n",
    "    null,\n",
    "    null,\n",
    "    14.00;\n"
   ],
   "id": "ce110000-1111-2222-3333-ffffff000027"
  },
  {
   "cell_type": "code",
   "execution_count": null,
   "metadata": {
    "vscode": {
     "languageId": "sql"
    },
    "name": "cell29",
    "language": "sql"
   },
   "outputs": [],
   "source": [
    "INSERT INTO raw_pos.order_detail\n",
    "SELECT\n",
    "    904745311, -- 注文詳細ID\n",
    "    459520441, -- 注文ID\n",
    "    157, -- メニュー項目ID\n",
    "    null,\n",
    "    0,\n",
    "    2, -- 注文数量\n",
    "    14.00,\n",
    "    28.00,\n",
    "    null;\n"
   ],
   "id": "ce110000-1111-2222-3333-ffffff000028"
  },
  {
   "cell_type": "markdown",
   "metadata": {
    "name": "cell30"
   },
   "source": [
    "次に、米国の個々のフードトラックによる各原材料の月間使用量をまとめる別の動的テーブルを作成します。これにより、在庫最適化、コスト制御、メニュー計画とサプライヤー関係に関する情報に基づいた意思決定に重要な原材料消費を追跡できます。\n",
    "\n",
    "注文タイムスタンプから日付の部分を抽出するために使用される2つの異なる方法に注意してください：\n",
    "- `EXTRACT(<date part> FROM <datetime>)` は、指定されたタイムスタンプから指定された日付部分を分離します。EXTRACT関数で使用できる日付と時刻の部分はいくつかあり、最も一般的なものはYEAR、MONTH、DAY、HOUR、MINUTE、SECONDです。\n",
    "- `MONTH(<datetime>)` は1-12の月のインデックスを返します。`YEAR(<datetime>)`と`DAY(<datetime>)`はそれぞれ年と日に対して同じことを行います。\n"
   ],
   "id": "ce110000-1111-2222-3333-ffffff000029"
  },
  {
   "cell_type": "code",
   "execution_count": null,
   "metadata": {
    "vscode": {
     "languageId": "sql"
    },
    "name": "cell31",
    "language": "sql"
   },
   "outputs": [],
   "source": [
    "-- 次にテーブルを作成\n",
    "CREATE OR REPLACE DYNAMIC TABLE harmonized.ingredient_usage_by_truck \n",
    "    LAG = '2 minute'\n",
    "    WAREHOUSE = 'TB_DE_WH'  \n",
    "    AS \n",
    "    SELECT\n",
    "        oh.truck_id,\n",
    "        EXTRACT(YEAR FROM oh.order_ts) AS order_year,\n",
    "        MONTH(oh.order_ts) AS order_month,\n",
    "        i.ingredient_name,\n",
    "        SUM(od.quantity) AS total_ingredients_used\n",
    "    FROM\n",
    "        raw_pos.order_detail od\n",
    "        JOIN raw_pos.order_header oh ON od.order_id = oh.order_id\n",
    "        JOIN harmonized.ingredient_to_menu_lookup iml ON od.menu_item_id = iml.menu_item_id\n",
    "        JOIN harmonized.ingredient i ON iml.ingredient_name = i.ingredient_name\n",
    "        JOIN raw_pos.location l ON l.location_id = oh.location_id\n",
    "    WHERE l.country = 'United States'\n",
    "    GROUP BY\n",
    "        oh.truck_id,\n",
    "        order_year,\n",
    "        order_month,\n",
    "        i.ingredient_name\n",
    "    ORDER BY\n",
    "        oh.truck_id,\n",
    "        total_ingredients_used DESC;\n"
   ],
   "id": "ce110000-1111-2222-3333-ffffff000030"
  },
  {
   "cell_type": "markdown",
   "metadata": {
    "name": "cell32"
   },
   "source": [
    "今度は、新しく作成したingredient_usage_by_truckビューを使用して、2022年1月のトラック#15の原材料使用量を表示しましょう。\n"
   ],
   "id": "ce110000-1111-2222-3333-ffffff000031"
  },
  {
   "cell_type": "code",
   "execution_count": null,
   "metadata": {
    "vscode": {
     "languageId": "sql"
    },
    "name": "cell33",
    "language": "sql"
   },
   "outputs": [],
   "source": [
    "SELECT\n",
    "    truck_id,\n",
    "    ingredient_name,\n",
    "    SUM(total_ingredients_used) AS total_ingredients_used,\n",
    "FROM\n",
    "    harmonized.ingredient_usage_by_truck\n",
    "WHERE\n",
    "    order_month = 1 -- 月は数値で1-12で表されます\n",
    "    AND truck_id = 15\n",
    "GROUP BY truck_id, ingredient_name\n",
    "ORDER BY total_ingredients_used DESC;\n"
   ],
   "id": "ce110000-1111-2222-3333-ffffff000032"
  },
  {
   "cell_type": "markdown",
   "metadata": {
    "name": "cell34",
    "collapsed": false
   },
   "source": "## 5. 有向非循環グラフ（DAG）によるパイプライン可視化\n\n![IMAGES](https://lh3.googleusercontent.com/pw/AP1GczPix9Aq6ouy2QNZ-9HCe3vL5A5l0MjBRzGcDXAmdAHXI_NlBSf3tAz7cMteN--jCjaiOTph0N_EG4JUnL3cSjwyG5Beb4wFdMQIxbVFxZTmRW3jakmMSD58TWE3ajb3Jk8sPDdk6Co5L5wJzZ6K8GNL=w1500-h844-s-no-gm?authuser=0)\n\n最後に、パイプラインの有向非循環グラフ（DAG）を理解しましょう。DAGはデータパイプラインの可視化として機能します。これを使用して複雑なデータワークフローを視覚的に調整し、タスクが正しい順序で実行されることを確保できます。パイプライン内の各動的テーブルのラグメトリックと設定を表示し、必要に応じてテーブルを手動で更新することもできます。\n\n### DAGにアクセスするには：\n- ナビゲーションメニュー（左サイドバー）の「カタログ」ボタンをクリックし、データベースエクスプローラーをクリック\n- 「TB_101」の横の矢印「>」をクリックしてデータベースを展開\n- 「HARMONIZED」を展開し、次に「動的テーブル」を展開\n- 「INGREDIENT」テーブルをクリック",
   "id": "ce110000-1111-2222-3333-ffffff000033"
  },
  {
   "cell_type": "markdown",
   "metadata": {
    "name": "cell35"
   },
   "source": [
    "---\n",
    "## RESET\n",
    "---\n"
   ],
   "id": "ce110000-1111-2222-3333-ffffff000034"
  },
  {
   "cell_type": "code",
   "execution_count": null,
   "metadata": {
    "vscode": {
     "languageId": "sql"
    },
    "name": "cell36",
    "language": "sql"
   },
   "outputs": [],
   "source": [
    "USE ROLE accountadmin;\n",
    "-- 動的テーブルを削除\n",
    "DROP TABLE IF EXISTS raw_pos.menu_staging;\n",
    "DROP TABLE IF EXISTS harmonized.ingredient;\n",
    "DROP TABLE IF EXISTS harmonized.ingredient_to_menu_lookup;\n",
    "DROP TABLE IF EXISTS harmonized.ingredient_usage_by_truck;\n"
   ],
   "id": "ce110000-1111-2222-3333-ffffff000035"
  },
  {
   "cell_type": "code",
   "execution_count": null,
   "metadata": {
    "vscode": {
     "languageId": "sql"
    },
    "name": "cell37",
    "language": "sql"
   },
   "outputs": [],
   "source": [
    "-- 挿入を削除\n",
    "DELETE FROM raw_pos.order_detail\n",
    "WHERE order_detail_id = 904745311;\n",
    "DELETE FROM raw_pos.order_header\n",
    "WHERE order_id = 459520441;\n"
   ],
   "id": "ce110000-1111-2222-3333-ffffff000036"
  },
  {
   "cell_type": "code",
   "execution_count": null,
   "metadata": {
    "vscode": {
     "languageId": "sql"
    },
    "name": "cell38",
    "language": "sql"
   },
   "outputs": [],
   "source": [
    "-- クエリタグを解除\n",
    "ALTER SESSION UNSET query_tag;\n",
    "-- Suspend warehouse\n",
    "ALTER WAREHOUSE tb_de_wh SUSPEND;\n"
   ],
   "id": "ce110000-1111-2222-3333-ffffff000037"
  }
 ]
}
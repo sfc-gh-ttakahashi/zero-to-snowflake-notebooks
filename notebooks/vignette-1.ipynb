{
 "metadata": {
  "language_info": {
   "name": "python"
  },
  "lastEditStatus": {
   "notebookId": "2jnthpyk4lqnjm677hes",
   "authorId": "5804154122712",
   "authorName": "TTAKAHSHI",
   "authorEmail": "tatsuya.takahashi@snowflake.com",
   "sessionId": "1d171fb8-e361-4ce5-b995-83bddd9923f9",
   "lastEditTime": 1761109255800
  }
 },
 "nbformat_minor": 2,
 "nbformat": 4,
 "cells": [
  {
   "cell_type": "markdown",
   "id": "ce110000-1111-2222-3333-ffffff000000",
   "metadata": {
    "name": "cell1"
   },
   "source": [
    "# Zero to Snowflake - Getting Started with Snowflake\n",
    "\n",
    "```\n",
    "Asset:        Zero to Snowflake - Getting Started with Snowflake\n",
    "Version:      v1     \n",
    "Copyright(c): 2025 Snowflake Inc. All rights reserved.\n",
    "```\n",
    "\n",
    "## 目次\n",
    "1. 仮想ウェアハウスと設定\n",
    "2. 永続化クエリ結果の活用\n",
    "3. 基本的なデータ変換技術\n",
    "4. UNDROPによるデータ復旧\n",
    "5. リソースモニター\n",
    "6. 予算\n",
    "7. ユニバーサル検索\n"
   ]
  },
  {
   "cell_type": "markdown",
   "id": "ce110000-1111-2222-3333-ffffff000001",
   "metadata": {
    "name": "cell2",
    "collapsed": false
   },
   "source": "## セッション設定\n\n開始前に、このクエリを実行してセッションクエリタグを設定します。\n\nSnowflakeのクエリタグは、SQLクエリに付与できるメタデータです。主に、コスト管理やクエリの追跡に利用されます。\n- 例えば、部署ごとに COST_CENTER=finance や COST_CENTER=engineering のようなタグをクエリに設定することで、どの部署がどれだけコンピューティングリソースを消費したかを後から分析できます。\n- クエリタグはセッション、ユーザー、またはアカウントレベルで設定でき、QUERY_HISTORYビューでその情報を確認することが可能です。これにより、組織全体のSnowflake利用状況を詳細に把握し、コストの最適化を図ることができます。\n"
  },
  {
   "cell_type": "code",
   "execution_count": null,
   "id": "ce110000-1111-2222-3333-ffffff000002",
   "metadata": {
    "language": "sql",
    "name": "cell3"
   },
   "outputs": [],
   "source": [
    "ALTER SESSION SET query_tag = '{\"origin\":\"sf_sit-is\",\"name\":\"tb_101_v2\",\"version\":{\"major\":1, \"minor\":1},\"attributes\":{\"is_quickstart\":0, \"source\":\"tastybytes\", \"vignette\": \"getting_started_with_snowflake\"}}';\n"
   ]
  },
  {
   "cell_type": "markdown",
   "id": "ce110000-1111-2222-3333-ffffff000003",
   "metadata": {
    "name": "cell4"
   },
   "source": [
    "ワークシートコンテキストを設定することから始めます。データベース、スキーマ、ロールを設定します。\n"
   ]
  },
  {
   "cell_type": "code",
   "execution_count": null,
   "id": "ce110000-1111-2222-3333-ffffff000004",
   "metadata": {
    "language": "sql",
    "name": "cell5"
   },
   "outputs": [],
   "source": [
    "USE DATABASE tb_101;\n",
    "USE ROLE accountadmin;\n"
   ]
  },
  {
   "cell_type": "markdown",
   "id": "ce110000-1111-2222-3333-ffffff000005",
   "metadata": {
    "name": "cell6"
   },
   "source": [
    "## 1. 仮想ウェアハウスと設定\n",
    "\n",
    "**ユーザーガイド:**  \n",
    "https://docs.snowflake.com/en/user-guide/warehouses-overview\n",
    "\n",
    "仮想ウェアハウスは、Snowflakeデータの分析を実行するために必要な動的でスケーラブル、かつコスト効率的な計算能力です。その目的は、基盤技術の詳細を気にする必要なく、すべてのデータ処理ニーズを処理することです。\n",
    "\n",
    "![IMAGE](https://lh3.googleusercontent.com/pw/AP1GczNDYbW7pDFcc2HvcgrcXe6nwTobrg8EmRgtwEUzq-VexK9Q68JTkQEF4wug26mEmq_qJkfUlW6esuBYNnSCmH8jqL8WkK1xKDxMj1NfM4OPLstU5c7XdBz87g86L94Yr3B5fNRMO_HPX6PpnFQmkphU=w1465-h824-s-no-gm?authuser=0)\n",
    "\n",
    "![IMAGE](https://lh3.googleusercontent.com/pw/AP1GczPDqnA_b_BMCnVGkyKH3DOpA9Tec_M1auDgRvlhXjBm-MJ2aBQET-iuHI7FY8nFhdZiufs9eASEyJ7FMdsDThXKLdan-FxwuoJNajXKfYC7ZuanpLvTPeXkJ_0s0vqaWcFMRsZOOZhJB9E4dj_GHzA2=w1465-h824-s-no-gm?authuser=0)\n",
    "\n",
    "\n",
    "\n",
    "### ウェアハウスパラメータ:\n",
    "\n",
    "**WAREHOUSE_SIZE:**  \n",
    "サイズは、ウェアハウス内のクラスターごとに利用可能な計算リソースの量を指定します。利用可能なサイズはX-SmallからEX-Largeまでの範囲です。デフォルト: 'XSmall'\n",
    "\n",
    "**WAREHOUSE_TYPE:**  \n",
    "仮想ウェアハウスの種類を定義し、アーキテクチャと動作を決定します\n",
    "種類:\n",
    "- 'STANDARD' 汎用ワークロード用\n",
    "- 'SNOWPARK_OPTIMIZED' メモリ集約的なワークロード用\n",
    "\n",
    "デフォルト: 'STANDARD'\n",
    "\n",
    "**AUTO_SUSPEND:**  \n",
    "ウェアハウスが自動的にサスペンドする非アクティブ期間を指定します。デフォルト: 600秒\n",
    "\n",
    "**INITIALLY_SUSPENDED:**  \n",
    "作成直後にウェアハウスがサスペンド状態で開始するかどうかを決定します。デフォルト: TRUE\n",
    "\n",
    "**AUTO_RESUME:**  \n",
    "クエリが送信されたときにサスペンド状態から自動的にウェアハウスが再開するかどうかを決定します。デフォルト: TRUE\n",
    "\n",
    "それでは、最初のウェアハウスを作成しましょう！\n"
   ]
  },
  {
   "cell_type": "markdown",
   "id": "ce110000-1111-2222-3333-ffffff000006",
   "metadata": {
    "name": "cell7"
   },
   "source": [
    "まず、アクセス権限のあるアカウント上の既存のウェアハウスを確認しましょう\n"
   ]
  },
  {
   "cell_type": "code",
   "execution_count": null,
   "id": "ce110000-1111-2222-3333-ffffff000007",
   "metadata": {
    "language": "sql",
    "name": "cell8"
   },
   "outputs": [],
   "source": [
    "SHOW WAREHOUSES;\n"
   ]
  },
  {
   "cell_type": "markdown",
   "id": "ce110000-1111-2222-3333-ffffff000008",
   "metadata": {
    "name": "cell9"
   },
   "source": [
    "これにより、ウェアハウスとその属性のリストが返されます：名前、状態（実行中またはサスペンド中）、タイプ、サイズなど多くの情報が含まれます。\n",
    "\n",
    "Snowsightですべてのウェアハウスを表示・管理することもできます。ウェアハウスページにアクセスするには、ナビゲーションメニューの管理ボタンをクリックし、拡張された管理カテゴリの「ウェアハウス」リンクをクリックします。\n",
    "\n",
    "ウェアハウスページでは、このアカウント上のウェアハウスとその属性のリストを確認できます。\n"
   ]
  },
  {
   "cell_type": "markdown",
   "id": "ce110000-1111-2222-3333-ffffff000009",
   "metadata": {
    "collapsed": false,
    "name": "cell10"
   },
   "source": [
    "簡単なSQLコマンドでウェアハウスを作成できます。\n",
    "以下のようなエラーメッセージが表示されますが、問題ありません。\n",
    "* ウェアハウス「MY_WH」は一時停止しています。再度使用する必要がある場合は、「ウェアハウス MY_WH レジュメを変更する」\n"
   ]
  },
  {
   "cell_type": "code",
   "execution_count": null,
   "id": "ce110000-1111-2222-3333-ffffff000010",
   "metadata": {
    "language": "sql",
    "name": "cell11",
    "vscode": {
     "languageId": "sql"
    }
   },
   "outputs": [],
   "source": [
    "CREATE OR REPLACE WAREHOUSE my_wh\n",
    "    COMMENT = 'My TastyBytes warehouse'\n",
    "    WAREHOUSE_TYPE = 'standard'\n",
    "    WAREHOUSE_SIZE = 'xsmall'\n",
    "    MIN_CLUSTER_COUNT = 1\n",
    "    MAX_CLUSTER_COUNT = 2\n",
    "    SCALING_POLICY = 'standard'\n",
    "    AUTO_SUSPEND = 60\n",
    "    INITIALLY_SUSPENDED = true,\n",
    "    AUTO_RESUME = false;\n"
   ]
  },
  {
   "cell_type": "markdown",
   "id": "ce110000-1111-2222-3333-ffffff000011",
   "metadata": {
    "collapsed": false,
    "name": "cell12"
   },
   "source": [
    "ウェアハウスができたので、このワークシートがこのウェアハウスを使用することを指定する必要があります。これはSQLコマンドまたはUIで実行できます。\n",
    "先程と同様に以下のようなエラーメッセージが表示されますが、問題ありません。\n",
    "* ウェアハウス「MY_WH」は一時停止しています。再度使用する必要がある場合は、「ウェアハウス MY_WH レジュメを変更する」\n"
   ]
  },
  {
   "cell_type": "code",
   "execution_count": null,
   "id": "ce110000-1111-2222-3333-ffffff000012",
   "metadata": {
    "language": "sql",
    "name": "cell13",
    "vscode": {
     "languageId": "sql"
    }
   },
   "outputs": [],
   "source": [
    "-- ウェアハウスを使用\n",
    "USE WAREHOUSE my_wh;\n"
   ]
  },
  {
   "cell_type": "markdown",
   "id": "ce110000-1111-2222-3333-ffffff000013",
   "metadata": {
    "name": "cell14"
   },
   "source": [
    "簡単なクエリを実行してみることができますが、結果ペインにエラーメッセージが表示され、MY_WH ウェアハウスがサスペンド中であることが通知されます。今すぐ試してみてください。\n"
   ]
  },
  {
   "cell_type": "code",
   "execution_count": null,
   "id": "ce110000-1111-2222-3333-ffffff000014",
   "metadata": {
    "language": "sql",
    "name": "cell15",
    "vscode": {
     "languageId": "sql"
    }
   },
   "outputs": [],
   "source": [
    "SELECT * FROM raw_pos.truck_details;\n"
   ]
  },
  {
   "cell_type": "markdown",
   "id": "ce110000-1111-2222-3333-ffffff000015",
   "metadata": {
    "name": "cell16"
   },
   "source": [
    "クエリの実行およびすべてのDML操作にはアクティブなウェアハウスが必要ですので、データから洞察を得るためにはウェアハウスを再開する必要があります。\n",
    "\n",
    "エラーメッセージには、SQLコマンド「ALTER warehouse MY_WH resume」を実行する提案も含まれていました。実行してみましょう！\n"
   ]
  },
  {
   "cell_type": "code",
   "execution_count": null,
   "id": "ce110000-1111-2222-3333-ffffff000016",
   "metadata": {
    "language": "sql",
    "name": "cell17",
    "vscode": {
     "languageId": "sql"
    }
   },
   "outputs": [],
   "source": [
    "ALTER WAREHOUSE my_wh RESUME;\n"
   ]
  },
  {
   "cell_type": "markdown",
   "id": "ce110000-1111-2222-3333-ffffff000017",
   "metadata": {
    "name": "cell18"
   },
   "source": [
    "また、ウェアハウスが再度サスペンドした場合に手動で再開する必要がないよう、AUTO_RESUMEをTRUEに設定します。\n"
   ]
  },
  {
   "cell_type": "code",
   "execution_count": null,
   "id": "ce110000-1111-2222-3333-ffffff000018",
   "metadata": {
    "language": "sql",
    "name": "cell19",
    "vscode": {
     "languageId": "sql"
    }
   },
   "outputs": [],
   "source": [
    "ALTER WAREHOUSE my_wh SET AUTO_RESUME = TRUE;\n"
   ]
  },
  {
   "cell_type": "markdown",
   "id": "ce110000-1111-2222-3333-ffffff000019",
   "metadata": {
    "name": "cell20"
   },
   "source": [
    "ウェアハウスが実行中になったので、先ほどのクエリを再度実行してみましょう\n"
   ]
  },
  {
   "cell_type": "code",
   "execution_count": null,
   "id": "ce110000-1111-2222-3333-ffffff000020",
   "metadata": {
    "language": "sql",
    "name": "cell21",
    "vscode": {
     "languageId": "sql"
    }
   },
   "outputs": [],
   "source": [
    "-- これでデータに対してクエリを実行できるようになりました\n",
    "SELECT * FROM raw_pos.truck_details;\n"
   ]
  },
  {
   "cell_type": "markdown",
   "id": "ce110000-1111-2222-3333-ffffff000021",
   "metadata": {
    "name": "cell22",
    "collapsed": false
   },
   "source": "次に、Snowflakeでのウェアハウススケーラビリティの力を見てみましょう。\n\nSnowflakeのウェアハウスはスケーラビリティと弾力性のために設計されており、ワークロードのニーズに基づいて計算リソースを上下に調整する力を提供します。\n\n簡単なALTER WAREHOUSE文でウェアハウスを即座にスケールアップできます。"
  },
  {
   "cell_type": "code",
   "execution_count": null,
   "id": "ce110000-1111-2222-3333-ffffff000022",
   "metadata": {
    "language": "sql",
    "name": "cell23",
    "vscode": {
     "languageId": "sql"
    }
   },
   "outputs": [],
   "source": [
    "ALTER WAREHOUSE my_wh SET warehouse_size = 'XLarge';\n"
   ]
  },
  {
   "cell_type": "markdown",
   "id": "ce110000-1111-2222-3333-ffffff000023",
   "metadata": {
    "name": "cell24"
   },
   "source": [
    "それでは、トラックごとの売上を見てみましょう。\n"
   ]
  },
  {
   "cell_type": "code",
   "execution_count": null,
   "id": "ce110000-1111-2222-3333-ffffff000024",
   "metadata": {
    "language": "sql",
    "name": "cell25",
    "vscode": {
     "languageId": "sql"
    }
   },
   "outputs": [],
   "source": [
    "SELECT\n",
    "    o.truck_brand_name,\n",
    "    COUNT(DISTINCT o.order_id) AS order_count,\n",
    "    SUM(o.price) AS total_sales\n",
    "FROM analytics.orders_v o\n",
    "GROUP BY o.truck_brand_name\n",
    "ORDER BY total_sales DESC;\n"
   ]
  },
  {
   "cell_type": "markdown",
   "id": "ce110000-1111-2222-3333-ffffff000025",
   "metadata": {
    "name": "cell26"
   },
   "source": [
    "**<SQLワークシート利用時>** こちらはデモとしてお見せしますので、前方のスクリーンを御覧ください。\n",
    "\n",
    "結果パネルを開いて、右上のツールバーを見てください。ここには検索、列選択、クエリ詳細と実行時間統計の表示、列統計の表示、結果のダウンロードのオプションがあります。\n",
    "\n",
    "- **検索** - 検索語句を使用して結果をフィルタリング\n",
    "- **結果の列を選択** - 結果に表示する列を有効/無効にする\n",
    "- **クエリの詳細** - SQLテキスト、返された行数、クエリID、実行されたロールとウェアハウスなど、クエリに関連する情報が含まれます。\n",
    "- **クエリ期間** - コンパイル時間、プロビジョニング時間、実行時間によってクエリの実行にかかった時間を分析します。\n",
    "- **列統計** - 結果パネルの列の分布に関するデータを表示します。\n",
    "- **結果ダウンロード** - 結果をCSVとしてエクスポート・ダウンロードします。\n"
   ]
  },
  {
   "cell_type": "markdown",
   "id": "ce110000-1111-2222-3333-ffffff000026",
   "metadata": {
    "name": "cell27",
    "collapsed": false
   },
   "source": "## 2. 永続化クエリ結果の活用\n\n**ユーザーガイド:**  \nhttps://docs.snowflake.com/en/user-guide/querying-persisted-results\n\n続行する前に、Snowflakeの別の強力な機能を実演するのに適した場所です：クエリ結果キャッシュ。\n\n上記のクエリを最初に実行したとき、XLウェアハウスでも完了まで数秒かかりました。\n\n上記の同じ「トラックごとの売上」クエリを実行し、クエリ実行時間ペインの総実行時間に注意してください。最初に実行したときは数秒かかったのが、次回は数百ミリ秒しかかからないことがわかります。これがクエリ結果キャッシュの効果です。\n\nクエリ履歴パネルを開いて、クエリが最初に実行されたときと2回目との実行時間を比較してください。\n\n### クエリ結果キャッシュの概要:\n![IMAGE](https://lh3.googleusercontent.com/pw/AP1GczPxbWgt78n8LpqqtVI1jQah9n86DLy6E_4PwHRNzI6fQjGG3eyMbYAjS17dqLk6mNIFv-A3Oq_YGA7gjXvrWrBcsa7cV-nuSA6ry38PMGkUljcyX06neUo-9rYVzmIC015psXuCT26hw46WdwBvlcU-=w1500-h844-s-no-gm?authuser=0)\n\n- すべてのクエリの結果は24時間保持されますが、クエリが実行されるたびにタイマーはリセットされます。\n- 結果キャッシュへのヒットはほとんど計算リソースを必要とせず、頻繁に実行されるレポートやダッシュボードに理想的で、クレジット消費の管理に役立ちます。\n- キャッシュはクラウドサービス層に存在し、個々のウェアハウスから論理的に分離されています。これにより、同じアカウント内のすべての仮想ウェアハウスとユーザーがグローバルにアクセスできます。"
  },
  {
   "cell_type": "markdown",
   "id": "ce110000-1111-2222-3333-ffffff000027",
   "metadata": {
    "name": "cell28"
   },
   "source": [
    "より小さなデータセットでの作業を開始するので、ウェアハウスを縮小できます\n"
   ]
  },
  {
   "cell_type": "code",
   "execution_count": null,
   "id": "ce110000-1111-2222-3333-ffffff000028",
   "metadata": {
    "language": "sql",
    "name": "cell29",
    "vscode": {
     "languageId": "sql"
    }
   },
   "outputs": [],
   "source": [
    "ALTER WAREHOUSE my_wh SET warehouse_size = 'XSmall';\n"
   ]
  },
  {
   "cell_type": "markdown",
   "id": "ce110000-1111-2222-3333-ffffff000029",
   "metadata": {
    "name": "cell30"
   },
   "source": [
    "## 3. 基本的なデータ変換技術\n",
    "\n",
    "ウェアハウスが設定され実行中になったので、トラックメーカーの分布を理解したいと思いますが、この情報は年、メーカー、モデルに関する情報をVARIANTデータ型で格納する別の列「truck_build」に埋め込まれています。\n",
    "\n",
    "VARIANTデータ型は半構造化データの例です。OBJECT、ARRAY、その他のVARIANT値を含むあらゆる種類のデータを格納できます。今回の場合、truck_buildは年、メーカー、モデルの3つの異なるVARCHAR値を含む単一のOBJECTを格納しています。\n",
    "\n",
    "より簡単で分析しやすくするため、3つのプロパティすべてをそれぞれの列に分離します。\n"
   ]
  },
  {
   "cell_type": "code",
   "execution_count": null,
   "id": "ce110000-1111-2222-3333-ffffff000030",
   "metadata": {
    "language": "sql",
    "name": "cell31",
    "vscode": {
     "languageId": "sql"
    }
   },
   "outputs": [],
   "source": [
    "SELECT truck_build FROM raw_pos.truck_details;\n"
   ]
  },
  {
   "cell_type": "markdown",
   "id": "ce110000-1111-2222-3333-ffffff000031",
   "metadata": {
    "name": "cell32",
    "collapsed": false
   },
   "source": "### ゼロコピークローニング\n![IMAGE](https://lh3.googleusercontent.com/pw/AP1GczP0EH0XyX1P71t25oWn-sAgewux4OEDkjhSPUg0ter2zXNL0aZvvEgyvVFLN2Q30XGEWAsjKoIZNhS19Uy2mKl-OdXPkAEP4NStPu2Nii60DarBBhhJQOxDAKtyePwY1fjTlcWerVNQDiqbdjXBQW9F=w1500-h844-s-no-gm?authuser=0)\n\n\ntruck_build列のデータは一貫して同じ形式に従っています。品質分析をより簡単に実行するために、「make」用の別の列が必要です。計画は、トラックテーブルの開発用コピーを作成し、年、メーカー、モデル用の新しい列を追加し、truck_build VARIANTオブジェクトから各プロパティを抽出してこれらの新しい列に保存することです。\n\nSnowflakeの強力なゼロコピークローニングにより、追加のストレージスペースを使用することなく、データベースオブジェクトの同一で完全に機能する別のコピーを瞬時に作成できます。\n\nゼロコピークローニングは、Snowflakeの独自のマイクロパーティションアーキテクチャを活用して、クローンオブジェクトと元のコピー間でデータを共有します。いずれかのテーブルへの変更により、変更されたデータのみの新しいマイクロパーティションが作成されます。これらの新しいマイクロパーティションは、クローンまたは元のクローンオブジェクトのいずれであっても、所有者が排他的に所有します。基本的に、一方のテーブルに加えられた変更は、元のテーブルまたはクローンコピーのどちらにも影響しません。\n"
  },
  {
   "cell_type": "code",
   "execution_count": null,
   "id": "ce110000-1111-2222-3333-ffffff000032",
   "metadata": {
    "language": "sql",
    "name": "cell33",
    "vscode": {
     "languageId": "sql"
    }
   },
   "outputs": [],
   "source": [
    "-- truckテーブルのゼロコピークローンとしてtruck_devテーブルを作成\n",
    "CREATE OR REPLACE TABLE raw_pos.truck_dev CLONE raw_pos.truck_details;\n"
   ]
  },
  {
   "cell_type": "code",
   "execution_count": null,
   "id": "ce110000-1111-2222-3333-ffffff000033",
   "metadata": {
    "language": "sql",
    "name": "cell34",
    "vscode": {
     "languageId": "sql"
    }
   },
   "outputs": [],
   "source": [
    "-- truck_devへのtruckテーブルクローンの成功を確認\n",
    "SELECT TOP 15 * \n",
    "FROM raw_pos.truck_dev\n",
    "ORDER BY truck_id;\n"
   ]
  },
  {
   "cell_type": "markdown",
   "id": "ce110000-1111-2222-3333-ffffff000034",
   "metadata": {
    "name": "cell35"
   },
   "source": [
    "truckテーブルの開発用コピーができたので、新しい列を追加することから始めます。\n",
    "\n",
    "**注意：** 3つの文を一度に実行するには、それらを選択して画面右上の青い「実行」ボタンをクリックするか、キーボードを使用してください。\n",
    "- Mac: command + return\n",
    "- Windows: Ctrl + Enter\n"
   ]
  },
  {
   "cell_type": "code",
   "execution_count": null,
   "id": "ce110000-1111-2222-3333-ffffff000035",
   "metadata": {
    "language": "sql",
    "name": "cell36",
    "vscode": {
     "languageId": "sql"
    }
   },
   "outputs": [],
   "source": [
    "ALTER TABLE raw_pos.truck_dev ADD COLUMN IF NOT EXISTS year NUMBER;\n",
    "ALTER TABLE raw_pos.truck_dev ADD COLUMN IF NOT EXISTS make VARCHAR(255);\n",
    "ALTER TABLE raw_pos.truck_dev ADD COLUMN IF NOT EXISTS model VARCHAR(255);\n"
   ]
  },
  {
   "cell_type": "markdown",
   "id": "ce110000-1111-2222-3333-ffffff000036",
   "metadata": {
    "name": "cell37"
   },
   "source": [
    "新しい列をtruck_build列から抽出したデータで更新しましょう。コロン（:）演算子を使用してtruck_build列の各キーの値にアクセスし、その値をそれぞれの列に設定します。\n"
   ]
  },
  {
   "cell_type": "code",
   "execution_count": null,
   "id": "ce110000-1111-2222-3333-ffffff000037",
   "metadata": {
    "language": "sql",
    "name": "cell38",
    "vscode": {
     "languageId": "sql"
    }
   },
   "outputs": [],
   "source": [
    "UPDATE raw_pos.truck_dev\n",
    "SET \n",
    "    year = truck_build:year::NUMBER,\n",
    "    make = truck_build:make::VARCHAR,\n",
    "    model = truck_build:model::VARCHAR;\n"
   ]
  },
  {
   "cell_type": "code",
   "execution_count": null,
   "id": "ce110000-1111-2222-3333-ffffff000038",
   "metadata": {
    "language": "sql",
    "name": "cell39",
    "vscode": {
     "languageId": "sql"
    }
   },
   "outputs": [],
   "source": "-- 3つの列がテーブルに正常に追加され、truck_buildから抽出されたデータで入力されたことを確認\nSELECT year, make, model, truck_build FROM raw_pos.truck_dev;\n"
  },
  {
   "cell_type": "markdown",
   "id": "ce110000-1111-2222-3333-ffffff000039",
   "metadata": {
    "name": "cell40"
   },
   "source": [
    "TasteBytesフードトラック車両群の分布を把握するために、異なるメーカーをカウントできます。\n"
   ]
  },
  {
   "cell_type": "code",
   "execution_count": null,
   "id": "ce110000-1111-2222-3333-ffffff000040",
   "metadata": {
    "language": "sql",
    "name": "cell41",
    "vscode": {
     "languageId": "sql"
    }
   },
   "outputs": [],
   "source": [
    "SELECT \n",
    "    make,\n",
    "    COUNT(*) AS count\n",
    "FROM raw_pos.truck_dev\n",
    "GROUP BY make\n",
    "ORDER BY make ASC;\n"
   ]
  },
  {
   "cell_type": "markdown",
   "id": "ce110000-1111-2222-3333-ffffff000041",
   "metadata": {
    "name": "cell42"
   },
   "source": [
    "上記のクエリを実行した後、データセットに問題があることに気づきます。一部のトラックのメーカーが「Ford」で、一部が「Ford_」となっており、同じトラックメーカーに対して2つの異なるカウントが得られています。\n"
   ]
  },
  {
   "cell_type": "code",
   "execution_count": null,
   "id": "ce110000-1111-2222-3333-ffffff000042",
   "metadata": {
    "language": "sql",
    "name": "cell43",
    "vscode": {
     "languageId": "sql"
    }
   },
   "outputs": [],
   "source": [
    "-- まずUPDATEを使用して「Ford_」のすべての出現を「Ford」に変更します\n",
    "UPDATE raw_pos.truck_dev\n",
    "    SET make = 'Ford'\n",
    "    WHERE make = 'Ford_';\n"
   ]
  },
  {
   "cell_type": "code",
   "execution_count": null,
   "id": "ce110000-1111-2222-3333-ffffff000043",
   "metadata": {
    "language": "sql",
    "name": "cell44",
    "vscode": {
     "languageId": "sql"
    }
   },
   "outputs": [],
   "source": [
    "-- make列が正常に更新されたことを確認 \n",
    "SELECT truck_id, make \n",
    "FROM raw_pos.truck_dev\n",
    "ORDER BY truck_id;\n"
   ]
  },
  {
   "cell_type": "markdown",
   "id": "ce110000-1111-2222-3333-ffffff000044",
   "metadata": {
    "name": "cell45"
   },
   "source": [
    "make列が正常に見えるので、truckテーブルをtruck_devテーブルとSWAPしましょう。このコマンドは2つのテーブル間でメタデータとデータをアトミックに交換し、truck_devテーブルを瞬時に新しい本番truckテーブルに昇格させます。\n"
   ]
  },
  {
   "cell_type": "code",
   "execution_count": null,
   "id": "ce110000-1111-2222-3333-ffffff000045",
   "metadata": {
    "language": "sql",
    "name": "cell46",
    "vscode": {
     "languageId": "sql"
    }
   },
   "outputs": [],
   "source": [
    "ALTER TABLE raw_pos.truck_details SWAP WITH raw_pos.truck_dev;\n"
   ]
  },
  {
   "cell_type": "code",
   "execution_count": null,
   "id": "ce110000-1111-2222-3333-ffffff000046",
   "metadata": {
    "language": "sql",
    "name": "cell47",
    "vscode": {
     "languageId": "sql"
    }
   },
   "outputs": [],
   "source": [
    "-- 正確なメーカーカウントを取得するために以前のクエリを実行\n",
    "SELECT \n",
    "    make,\n",
    "    COUNT(*) AS count\n",
    "FROM raw_pos.truck_details\n",
    "GROUP BY\n",
    "    make\n",
    "ORDER BY count DESC;\n"
   ]
  },
  {
   "cell_type": "markdown",
   "id": "ce110000-1111-2222-3333-ffffff000047",
   "metadata": {
    "name": "cell48"
   },
   "source": [
    "変更は良好に見えます。データを3つの別々の列に分割したので、本番データベースからtruck_build列を削除することでデータセットのクリーンアップを実行します。その後、もう必要ないのでtruck_devテーブルを削除できます。\n"
   ]
  },
  {
   "cell_type": "code",
   "execution_count": null,
   "id": "ce110000-1111-2222-3333-ffffff000048",
   "metadata": {
    "language": "sql",
    "name": "cell49",
    "vscode": {
     "languageId": "sql"
    }
   },
   "outputs": [],
   "source": [
    "-- 簡単なALTER TABLE ... DROP COLUMNコマンドで古いtruck build列を削除できます\n",
    "ALTER TABLE raw_pos.truck_details DROP COLUMN truck_build;\n"
   ]
  },
  {
   "cell_type": "code",
   "execution_count": null,
   "id": "ce110000-1111-2222-3333-ffffff000049",
   "metadata": {
    "language": "sql",
    "name": "cell50",
    "vscode": {
     "languageId": "sql"
    }
   },
   "outputs": [],
   "source": [
    "-- これでtruck_devテーブルを削除できます\n",
    "DROP TABLE raw_pos.truck_details;\n"
   ]
  },
  {
   "cell_type": "markdown",
   "id": "ce110000-1111-2222-3333-ffffff000050",
   "metadata": {
    "name": "cell51",
    "collapsed": false
   },
   "source": "## 4. UNDROPによるデータ復旧\n\n大変です！本番トラックテーブルを誤って削除してしまいました。😱\n\n幸い、UNDROPコマンドを使用してテーブルを削除前の状態に復元できます。UNDROPはSnowflakeの強力なTime Travel機能の一部で、設定されたデータ保持期間内（デフォルト24時間）で削除されたデータベースオブジェクトの復元を可能にします。\n\n![IMAGE](https://lh3.googleusercontent.com/pw/AP1GczNHQgjgct7i2wOmXuipOPXLN-KxSl0l48WwJwOy5Q7058tdaLUG0GMU2I6g-qqAD8XREmloweig7BteLa5U09adhmmk0rj5oCp7u2BBBGhBP0FQnwtO4uqzH5IiyHhLi97TQZaVfzYzk_2vwH0ob2QA=w1500-h844-s-no-gm?authuser=0)\n\n![IMAGE](https://lh3.googleusercontent.com/pw/AP1GczPnlUeNEQRKFSuNwyeOJdB6UPPrexJKx1TZravDdTa_3axz4jXBsZSNjYXlkDYuDo0UWR30UTQo7_ZJQtxOijghmQE_u_cAtzAmWYlXeGgD2gB8KLnJjR4LT_6hI2c9Kz2mSmJsgigBCIP0n9bw44uN=w1500-h844-s-no-gm?authuser=0)\n\n\nUNDROPを使用して本番「truck」テーブルをASAPで復元しましょう！\n"
  },
  {
   "cell_type": "code",
   "execution_count": null,
   "id": "ce110000-1111-2222-3333-ffffff000051",
   "metadata": {
    "language": "sql",
    "name": "cell52",
    "vscode": {
     "languageId": "sql"
    }
   },
   "outputs": [],
   "source": [
    "-- オプション：「truck」テーブルがもう存在しないことを確認するためにこのクエリを実行\n",
    "-- 注意：「Table TRUCK does not exist or not authorized.」エラーはテーブルが削除されたことを意味します。\n",
    "DESCRIBE TABLE raw_pos.truck_details;\n"
   ]
  },
  {
   "cell_type": "code",
   "execution_count": null,
   "id": "ce110000-1111-2222-3333-ffffff000052",
   "metadata": {
    "language": "sql",
    "name": "cell53",
    "vscode": {
     "languageId": "sql"
    }
   },
   "outputs": [],
   "source": [
    "-- 本番「truck」テーブルでUNDROPを実行して、削除前の正確な状態に復元します\n",
    "UNDROP TABLE raw_pos.truck_details;\n"
   ]
  },
  {
   "cell_type": "code",
   "execution_count": null,
   "id": "ce110000-1111-2222-3333-ffffff000053",
   "metadata": {
    "language": "sql",
    "name": "cell54",
    "vscode": {
     "languageId": "sql"
    }
   },
   "outputs": [],
   "source": [
    "-- テーブルが正常に復元されたことを確認\n",
    "SELECT * from raw_pos.truck_details;\n"
   ]
  },
  {
   "cell_type": "code",
   "execution_count": null,
   "id": "ce110000-1111-2222-3333-ffffff000054",
   "metadata": {
    "language": "sql",
    "name": "cell55",
    "vscode": {
     "languageId": "sql"
    }
   },
   "outputs": [],
   "source": [
    "-- 今度は実際のtruck_devテーブルを削除\n",
    "DROP TABLE raw_pos.truck_dev;\n"
   ]
  },
  {
   "cell_type": "markdown",
   "id": "ce110000-1111-2222-3333-ffffff000055",
   "metadata": {
    "name": "cell56",
    "collapsed": false
   },
   "source": "## 5. リソースモニター\n![IMAGE](https://lh3.googleusercontent.com/pw/AP1GczO2ZVKueP5LpcMawqPhivo0OgQZVnH8kP6pNTdGUfxFNlVd9IR0rH_r4DCyaJmyhe9XSwNmMoBD4cZrEjY5X0G9oFrto3pWbvTzWqrIJdAGXfhmwZSPXVCqVGraAfmKnjvoLhh0jYmYleyyfMDqK1el=w1500-h844-s-no-gm?authuser=0)\n\n![IMAGE](https://lh3.googleusercontent.com/pw/AP1GczON7xY-spCXFWwiGGfHuwKc0VER2ekVbPWY6vT-3ySaCubKjHJ4o-Va8aqnTquQAhYSANyEzJhNyO-RcFlNuHADI-CubYO90etf-AE76aqhlWIUwZWw53Jy-fmWoYcXkCG7f74wdxz0IHiEcX8SeCwH=w1500-h844-s-no-gm?authuser=0)\n\n![IMAGE](https://lh3.googleusercontent.com/pw/AP1GczOqth4xeGJd9T2XrwopL5VSddxe_1GdbK6lqBA7iJo-7M3tJ_yi2BAna7Ha8396uYCB0eWrZ9snZrvazzMycYeUntVYfnq5mS6bppAtwtRL9f82jdNbG0F_dEd_iEJ-B6jMvXBfH7pRhZ7SnDiowGxe=w1500-h844-s-no-gm?authuser=0)\n\n**ユーザーガイド:**  \nhttps://docs.snowflake.com/en/user-guide/resource-monitors\n\n計算使用量と支出の監視は、クラウドベースのワークフローにとって重要です。Snowflakeはリソースモニターを使用してウェアハウスのクレジット使用量を追跡する簡単で分かりやすい方法を提供します。\n\nリソースモニターでは、クレジットクォータを定義し、定義された使用量しきい値に到達したときに関連するウェアハウスで特定のアクションをトリガーします。\n\n### リソースモニターが実行できるアクション:\n- **NOTIFY:** 指定されたユーザーまたはロールにメール通知を送信します。\n- **SUSPEND:** しきい値に到達したときに関連するウェアハウスをサスペンドします。注意：実行中のクエリは完了が許可されます。\n- **SUSPEND_IMMEDIATE:** しきい値に到達したときに関連するウェアハウスをサスペンドし、実行中のすべてのクエリをキャンセルします。\n\n今度は、ウェアハウスmy_wh用のリソースモニターを作成します\n"
  },
  {
   "cell_type": "markdown",
   "id": "ce110000-1111-2222-3333-ffffff000056",
   "metadata": {
    "name": "cell57",
    "collapsed": false
   },
   "source": "もしSnowsightでアカウントレベルロールがaccountadminでない場合、以下の手順で設定します:\n\n手順:\n- 画面左下のユーザーアイコンをクリック\n- 「ロール切り替え」にホバー\n- ロールリストパネルで「ACCOUNTADMIN」を選択\n\n次に、ワークシートでaccountadminロールを使用します\n"
  },
  {
   "cell_type": "code",
   "execution_count": null,
   "id": "ce110000-1111-2222-3333-ffffff000057",
   "metadata": {
    "language": "sql",
    "name": "cell58",
    "vscode": {
     "languageId": "sql"
    }
   },
   "outputs": [],
   "source": [
    "USE ROLE accountadmin;\n"
   ]
  },
  {
   "cell_type": "code",
   "execution_count": null,
   "id": "ce110000-1111-2222-3333-ffffff000058",
   "metadata": {
    "language": "sql",
    "name": "cell59",
    "vscode": {
     "languageId": "sql"
    }
   },
   "outputs": [],
   "source": [
    "-- SQLでリソースモニターを作成するために以下のクエリを実行\n",
    "CREATE OR REPLACE RESOURCE MONITOR my_resource_monitor\n",
    "    WITH CREDIT_QUOTA = 100\n",
    "    FREQUENCY = MONTHLY -- DAILY、WEEKLY、YEARLY、またはNEVER（一回限りのクォータ用）も可能\n",
    "    START_TIMESTAMP = IMMEDIATELY\n",
    "    TRIGGERS ON 75 PERCENT DO NOTIFY\n",
    "             ON 90 PERCENT DO SUSPEND\n",
    "             ON 100 PERCENT DO SUSPEND_IMMEDIATE;\n"
   ]
  },
  {
   "cell_type": "code",
   "execution_count": null,
   "id": "ce110000-1111-2222-3333-ffffff000059",
   "metadata": {
    "language": "sql",
    "name": "cell60",
    "vscode": {
     "languageId": "sql"
    }
   },
   "outputs": [],
   "source": [
    "-- リソースモニターが作成されたので、my_whに適用\n",
    "ALTER WAREHOUSE my_wh \n",
    "    SET RESOURCE_MONITOR = my_resource_monitor;\n"
   ]
  },
  {
   "cell_type": "markdown",
   "id": "a4016c13-b9ba-4e40-a3ab-b91784eff561",
   "metadata": {
    "collapsed": false,
    "name": "cell70"
   },
   "source": [
    "ここまででリソースモニターが作成されましたので、実際に画面で見てみましょう。\n",
    "* 左のメニューから Admin（管理者） > Cost Management（コスト管理） を選択して画面を開きます。\n",
    "    * この際に、\"Cost Management（コスト管理）\" を右クリックして「新しいタブで開く」を選択すると、このワークシートの画面を閉じずに開くことができます。\n",
    "* その後、画面上部の\"Resource Monitor（リソースモニター）\"を選択すると、作成したリソースモニターの設定情報を確認することができます。"
   ]
  },
  {
   "cell_type": "markdown",
   "id": "ce110000-1111-2222-3333-ffffff000060",
   "metadata": {
    "name": "cell61",
    "collapsed": false
   },
   "source": "## 6. 予算\n![IMAGE](https://lh3.googleusercontent.com/pw/AP1GczPyVeOhSFaEb00LbSHKxkKd_dZPB-91Zd1DV_maFx1l4KSdK97HKA8eAXTSJsOyS-WsTya7k4pzalV8ErviuZCDIXDyfJUJ95GgSR5e_zkYCQoRkHqHCgGK6a-_hmtsn1d2riR6TsmyvPaYxkoJVnl5=w1500-h844-s-no-gm?authuser=0)\n\n**ユーザーガイド:**  \nhttps://docs.snowflake.com/en/user-guide/budgets\n\n前のステップでは、ウェアハウスのクレジット使用量を監視するリソースモニターを設定しました。このステップでは、Snowflakeでのコスト管理により包括的で柔軟なアプローチのために予算を作成します。\n\nリソースモニターはウェアハウスと計算使用量に特に結び付けられていますが、予算はあらゆるSnowflakeオブジェクトまたはサービスのコストを追跡し、支出制限を課し、金額が指定されたしきい値に達したときにユーザーに通知するために使用できます。\n"
  },
  {
   "cell_type": "code",
   "execution_count": null,
   "id": "ce110000-1111-2222-3333-ffffff000061",
   "metadata": {
    "language": "sql",
    "name": "cell62",
    "vscode": {
     "languageId": "sql"
    }
   },
   "outputs": [],
   "source": [
    "-- まず予算を作成しましょう\n",
    "CREATE OR REPLACE SNOWFLAKE.CORE.BUDGET my_budget()\n",
    "    COMMENT = 'My Tasty Bytes Budget';\n"
   ]
  },
  {
   "cell_type": "markdown",
   "id": "ce110000-1111-2222-3333-ffffff000062",
   "metadata": {
    "name": "cell63"
   },
   "source": [
    "予算を設定する前に、アカウントでメールアドレスを確認する必要があります。\n",
    "\n",
    "**メールアドレスを確認するには:**\n",
    "- 画面左下のユーザーアイコンをクリック\n",
    "- 設定をクリック\n",
    "- メールフィールドにメールアドレスを入力\n",
    "- 「保存」をクリック\n",
    "- メールを確認し、指示に従ってメールを確認  \n",
    "  **注意:** 数分経ってもメールが届かない場合は、「確認の再送信」をクリック\n",
    "\n",
    "新しい予算が設定され、メールが確認され、アカウントレベルロールがaccountadminに設定されたので、Snowsightの予算ページに移動して予算にリソースを追加しましょう。\n",
    "\n",
    "**Snowsightで予算ページにアクセスするには:**\n",
    "- ナビゲーションメニューの管理ボタンをクリック\n",
    "- 最初の項目「コスト管理」をクリック\n",
    "- 「予算」タブをクリック\n",
    "\n",
    "ウェアハウスの選択を求められた場合は、tb_dev_whを選択してください。そうでなければ、画面右上のウェアハウスパネルからウェアハウスがtb_dev_whに設定されていることを確認してください。\n",
    "\n",
    "予算ページでは、現在の期間の支出に関する指標が表示されます。画面中央には、予測支出と現在の支出のグラフが表示されます。画面下部には、以前に作成した「MY_BUDGET」予算が表示されます。それをクリックして予算ページを表示します\n",
    "\n",
    "画面右上の「<- 予算詳細」をクリックすると予算詳細パネルが表示されます。ここでは、予算とそれに付随するすべてのリソースに関する情報を表示できます。監視されているリソースがないことがわかるので、今すぐ追加しましょう。「編集」ボタンをクリックして予算編集パネルを開きます；\n",
    "\n",
    "- 予算名は同じまま\n",
    "- 支出制限を100に設定\n",
    "- 以前に確認したメールを入力\n",
    "- リソースを追加するために「+ タグとリソース」ボタンをクリック\n",
    "- データベースを展開し、次にTB_101を展開し、ANALYTICSスキーマの横のボックスをチェック\n",
    "- 下にスクロールして「ウェアハウス」を展開\n",
    "- 「TB_DE_WH」のボックスをチェック\n",
    "- 「完了」をクリック\n",
    "- 予算編集メニューに戻り、「変更を保存」をクリック\n"
   ]
  },
  {
   "cell_type": "markdown",
   "id": "ce110000-1111-2222-3333-ffffff000063",
   "metadata": {
    "collapsed": false,
    "name": "cell64"
   },
   "source": [
    "## 7. ユニバーサル検索\n",
    "\n",
    "**ユーザーガイド:**  \n",
    "https://docs.snowflake.com/en/user-guide/ui-snowsight-universal-search\n",
    "\n",
    "ユニバーサル検索を使用すると、アカウント内のあらゆるオブジェクトを簡単に見つけることができ、さらにMarketplaceのデータ製品、関連するSnowflakeドキュメント、コミュニティナレッジベース記事を探索できます。\n",
    "\n",
    "試してみましょう。  \n",
    "**(ユニバーサル検索を使用する際、新規オブジェクトへのインデックス反映までは2-3時間かかる場合があります)**\n",
    "\n",
    "### 使用方法:\n",
    "\n",
    "- ユニバーサル検索を使用するには、ナビゲーションメニューの「検索」(左メニュー上部の虫メガネボタン)をクリックして開始\n",
    "- ここにユニバーサル検索UIが表示されます。最初の検索語句を入力しましょう。\n",
    "- 検索バーに「truck」と入力して結果を観察してください。上位セクションは、データベース、テーブル、ビュー、ステージなど、アカウント上の関連オブジェクトのカテゴリです。データベースオブジェクトの下には、関連するマーケットプレイスリストとドキュメントのセクションが表示されます。\n",
    "\n",
    "- 探しているものを説明するために自然言語で検索語句を提供することもできます。どのトラックフランチャイズが最も多くのリターン顧客を持っているかを回答するためにどこから調べ始めるかを知りたい場合、「どのトラックフランチャイズが最も忠実な顧客ベースを持っているか？」のような検索ができます。「テーブルとビュー」セクションの横にある「すべて表示 >」ボタンをクリックすると、クエリに関連するすべての関連テーブルとビューを表示できます。\n",
    "\n",
    "ユニバーサル検索は、異なるスキーマからいくつかのテーブルとビューを返します。各オブジェクトに対して関連する列がどのようにリストされているかにも注目してください。これらはすべて、リターン顧客に関するデータ駆動の回答の優れた出発点です。\n"
   ]
  },
  {
   "cell_type": "markdown",
   "id": "ce110000-1111-2222-3333-ffffff000064",
   "metadata": {
    "name": "cell65"
   },
   "source": [
    "---\n",
    "## RESET\n",
    "---\n",
    "\n",
    "作成されたオブジェクトを削除\n"
   ]
  },
  {
   "cell_type": "code",
   "execution_count": null,
   "id": "ce110000-1111-2222-3333-ffffff000065",
   "metadata": {
    "language": "sql",
    "name": "cell66",
    "vscode": {
     "languageId": "sql"
    }
   },
   "outputs": [],
   "source": [
    "DROP RESOURCE MONITOR IF EXISTS my_resource_monitor;\n",
    "DROP TABLE IF EXISTS raw_pos.truck_dev;\n"
   ]
  },
  {
   "cell_type": "code",
   "execution_count": null,
   "id": "ce110000-1111-2222-3333-ffffff000066",
   "metadata": {
    "language": "sql",
    "name": "cell67",
    "vscode": {
     "languageId": "sql"
    }
   },
   "outputs": [],
   "source": [
    "-- トラック詳細をリセット\n",
    "CREATE OR REPLACE TABLE raw_pos.truck_details\n",
    "AS \n",
    "SELECT * EXCLUDE (year, make, model)\n",
    "FROM raw_pos.truck;\n"
   ]
  },
  {
   "cell_type": "code",
   "execution_count": null,
   "id": "ce110000-1111-2222-3333-ffffff000067",
   "metadata": {
    "language": "sql",
    "name": "cell68",
    "vscode": {
     "languageId": "sql"
    }
   },
   "outputs": [],
   "source": [
    "DROP WAREHOUSE IF EXISTS my_wh;\n"
   ]
  },
  {
   "cell_type": "code",
   "execution_count": null,
   "id": "ce110000-1111-2222-3333-ffffff000068",
   "metadata": {
    "language": "sql",
    "name": "cell69",
    "vscode": {
     "languageId": "sql"
    }
   },
   "outputs": [],
   "source": [
    "-- Unset Query Tag\n",
    "ALTER SESSION UNSET query_tag;\n"
   ]
  }
 ]
}
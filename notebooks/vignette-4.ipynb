{
 "metadata": {
  "language_info": {
   "name": "python"
  },
  "lastEditStatus": {
   "notebookId": "ctgjqa2tompokjvnbqf4",
   "authorId": "",
   "authorName": "",
   "sessionId": "7b2b00ab-1c7b-4d68-8f33-e84fdf73ae12",
   "lastEditTime": 0
  }
 },
 "nbformat_minor": 2,
 "nbformat": 4,
 "cells": [
  {
   "cell_type": "markdown",
   "metadata": {
    "name": "cell1",
    "collapsed": false
   },
   "source": "# Zero to Snowflake - Governance with Horizon\n\n```\nAsset:        Zero to Snowflake - Governance with Horizon\nVersion:      v1     \nCopyright(c): 2025 Snowflake Inc. All rights reserved.\n```\n\n![IMAGES](https://lh3.googleusercontent.com/pw/AP1GczMO8BQSzpWWkMJ9Ze4Dsh9kjyPChH-VRl19CCsqT-fk1FQH4JFRI75aviFbTT4kjk6wHgHEYkpGwZOSpiEG6pHCmZo4jKUU5tjX2B7lZGZizMEphgiY3aS-EZreiC2WIPObX9twBFGiw-In6h2G39se=w1500-h844-s-no-gm?authuser=0)\n\n\n## 目次\n1. ロールとアクセス制御の紹介\n2. 自動タグ付けによるタグベース分類\n3. マスキングポリシーによる列レベルセキュリティ\n4. 行アクセスポリシーによる行レベルセキュリティ\n5. データメトリック関数によるデータ品質監視\n6. Trust Centerによるアカウントセキュリティ監視\n",
   "id": "ce110000-1111-2222-3333-ffffff000000"
  },
  {
   "cell_type": "code",
   "execution_count": null,
   "metadata": {
    "name": "cell2",
    "language": "sql"
   },
   "outputs": [],
   "source": [
    "ALTER SESSION SET query_tag = '{\"origin\":\"sf_sit-is\",\"name\":\"tb_101_v2\",\"version\":{\"major\":1, \"minor\":1},\"attributes\":{\"is_quickstart\":0, \"source\":\"tastybytes\", \"vignette\": \"governance_with_horizon\"}}';\n"
   ],
   "id": "ce110000-1111-2222-3333-ffffff000001"
  },
  {
   "cell_type": "markdown",
   "metadata": {
    "name": "cell3"
   },
   "source": [
    "まず、ワークシートコンテキストを設定しましょう\n"
   ],
   "id": "ce110000-1111-2222-3333-ffffff000002"
  },
  {
   "cell_type": "code",
   "execution_count": null,
   "metadata": {
    "name": "cell4",
    "language": "sql"
   },
   "outputs": [],
   "source": [
    "USE ROLE useradmin;\n",
    "USE DATABASE tb_101;\n",
    "USE WAREHOUSE tb_dev_wh;\n"
   ],
   "id": "ce110000-1111-2222-3333-ffffff000003"
  },
  {
   "cell_type": "markdown",
   "metadata": {
    "name": "cell5",
    "collapsed": false
   },
   "source": "## 1. ロールとアクセス制御の紹介\n\n![IMAGES](https://lh3.googleusercontent.com/pw/AP1GczO4U9WfLW8DVfThVi_OPopFf3iwKQKlqR9xW8NetCgVzDxJRYcNfncJdbUmQr9QSADmAEd63yzzyUY7TLJc3EeDA94SczkvjVO50pU1KtTL6X_rXIekuNzPtWoYEmrbjGv-_9zBWwHGYt8KvAeV5u35=w1500-h844-s-no-gm?authuser=0)\n\n![IMAGES](https://lh3.googleusercontent.com/pw/AP1GczM4H3n-9Im__B0tVsvpEBXk-cEyGgNBT5iEMn9vGKPsdXkdxVgqIZBGvU543IqbSDi5EsDODhphFh0V8vnHMKtsLJgV1r6K0CRyWXpDWT-TMZesf8Y01XEPTV5rUpFcEtp5SizeKvaGK9A8BNfHUT6-=w1500-h844-s-no-gm?authuser=0)\n\n**ユーザーガイド:**  \nhttps://docs.snowflake.com/en/user-guide/security-access-control-overview\n\nSnowflakeアクセス制御フレームワークは以下に基づいています：\n- ロールベースアクセス制御（RBAC）：アクセス権限がロールに割り当てられ、ロールがユーザーに割り当てられます。\n- 任意アクセス制御（DAC）：各オブジェクトには所有者がおり、所有者がそのオブジェクトへのアクセスを許可できます。\n\nSnowflakeでアクセス制御を理解するための主要概念：\n- **セキュリティ保護可能オブジェクト：** セキュリティ保護可能オブジェクトは、誰が使用または表示できるかを制御できるものです。具体的に許可されていない場合、アクセスできません。これらのオブジェクトは個人ではなくグループ（ロール）によって管理されます。データベース、テーブル、関数などはすべてセキュリティ保護可能オブジェクトです。\n- **ロール：** ロールは配布可能な権限のセットのようなものです。これらのロールを個々のユーザーや他のロールにも付与でき、権限のチェーンを作成できます。\n- **権限：** 権限はオブジェクトに対して何かを行う特定の許可です。多くの小さな権限を組み合わせて、誰かがどの程度のアクセス権を持つかを正確に制御できます。\n- **ユーザー：** ユーザーは単純にSnowflakeが認識するアイデンティティ（ユーザー名など）です。実際の人物またはコンピュータープログラムのいずれでも構いません。\n\n### Snowflakeシステム定義ロールの定義：\n- **ORGADMIN：** 組織レベルでの操作を管理するロール。\n- **ACCOUNTADMIN：** システムの最上位ロールで、アカウント内の限定された/制御されたユーザー数にのみ付与されるべきです。\n- **SECURITYADMIN：** グローバルにオブジェクトグラントを管理し、ユーザーとロールを作成、監視、管理できるロール。\n- **USERADMIN：** ユーザーとロール管理専用のロール。\n- **SYSADMIN：** アカウントでウェアハウスとデータベースを作成する権限を持つロール。\n- **PUBLIC：** PUBLICはすべてのユーザーとロールに自動的に付与される疑似ロールです。セキュリティ保護可能オブジェクトを所有でき、所有するものはアカウント内の他のすべてのユーザーとロールが利用可能になります。\n\n![IMAGES](https://lh3.googleusercontent.com/pw/AP1GczOVJAfDLC6eNhkIbXiHigKUed1uK37gWuKQVgFd-nL_0lB_KSB3LjrLLwRCGelSQ3Xs3zcIZOt4gEaZu6KCYe7QDTg2bzeMkjTvhepVX2dCvRiTDYHDSldWbZkADFwCpcfiVzt29u5PEa32Tx3915P5=w1500-h844-s-no-gm?authuser=0)\n\nこのセクションでは、カスタムデータスチュワードロールを作成し、それに権限を関連付ける方法を見ていきます。\n",
   "id": "ce110000-1111-2222-3333-ffffff000004"
  },
  {
   "cell_type": "markdown",
   "metadata": {
    "name": "cell6"
   },
   "source": [
    "まず、アカウント上に既に存在するロールを確認しましょう。\n"
   ],
   "id": "ce110000-1111-2222-3333-ffffff000005"
  },
  {
   "cell_type": "code",
   "execution_count": null,
   "metadata": {
    "name": "cell7",
    "language": "sql"
   },
   "outputs": [],
   "source": [
    "SHOW ROLES;\n"
   ],
   "id": "ce110000-1111-2222-3333-ffffff000006"
  },
  {
   "cell_type": "markdown",
   "metadata": {
    "name": "cell8"
   },
   "source": [
    "データスチュワードロールを作成します。\n"
   ],
   "id": "ce110000-1111-2222-3333-ffffff000007"
  },
  {
   "cell_type": "code",
   "execution_count": null,
   "metadata": {
    "name": "cell9",
    "language": "sql"
   },
   "outputs": [],
   "source": [
    "CREATE OR REPLACE ROLE tb_data_steward\n",
    "    COMMENT = 'カスタムロール';\n"
   ],
   "id": "ce110000-1111-2222-3333-ffffff000008"
  },
  {
   "cell_type": "markdown",
   "metadata": {
    "name": "cell10"
   },
   "source": [
    "新しいロールが作成されたので、クエリを実行するためにウェアハウスを使用できるようにしたいと思います。続行する前に、ウェアハウス権限についてより良く理解しましょう。\n",
    "\n",
    "### ウェアハウス権限:\n",
    "- **MODIFY：** サイズ変更を含め、ウェアハウスのプロパティを変更できます。\n",
    "- **MONITOR：** ウェアハウスで実行された現在および過去のクエリの表示と、そのウェアハウスの使用統計の表示ができます。\n",
    "- **OPERATE：** ウェアハウスの状態を変更（停止、開始、サスペンド、再開）できます。さらに、ウェアハウスで実行された現在および過去のクエリの表示と実行中のクエリの中止ができます。\n",
    "- **USAGE：** 仮想ウェアハウスを使用し、結果としてウェアハウスでクエリを実行できます。ウェアハウスがSQL文が送信されたときに自動再開するよう設定されている場合、ウェアハウスは自動的に再開し、文を実行します。\n",
    "- **ALL：** ウェアハウス上のOWNERSHIP以外のすべての権限を付与します。\n",
    "\n",
    "ウェアハウス権限が理解できたので、新しいロールにoperateとusage権限を付与できます。まず、SECURITYADMINロールに切り替えます。\n"
   ],
   "id": "ce110000-1111-2222-3333-ffffff000009"
  },
  {
   "cell_type": "code",
   "execution_count": null,
   "metadata": {
    "name": "cell11",
    "language": "sql"
   },
   "outputs": [],
   "source": [
    "USE ROLE securityadmin;\n",
    "-- まず、ロールにウェアハウスtb_dev_whを使用する能力を付与します\n",
    "GRANT OPERATE, USAGE ON WAREHOUSE tb_dev_wh TO ROLE tb_data_steward;\n"
   ],
   "id": "ce110000-1111-2222-3333-ffffff000010"
  },
  {
   "cell_type": "markdown",
   "metadata": {
    "name": "cell12"
   },
   "source": [
    "次に、Snowflakeデータベースとスキーマグラントを理解しましょう：\n",
    "\n",
    "### データベース権限:\n",
    "- **MODIFY：** データベース設定の変更ができます。\n",
    "- **MONITOR：** DESCRIBEコマンドの実行ができます。\n",
    "- **USAGE：** データベースの使用ができ、SHOW DATABASESコマンド出力でデータベース詳細の返却が含まれます。データベース内のオブジェクトを表示したり操作したりするには追加の権限が必要です。\n",
    "- **ALL：** データベース上のOWNERSHIP以外のすべての権限を付与します。\n"
   ],
   "id": "ce110000-1111-2222-3333-ffffff000011"
  },
  {
   "cell_type": "code",
   "execution_count": null,
   "metadata": {
    "name": "cell13",
    "language": "sql"
   },
   "outputs": [],
   "source": [
    "GRANT USAGE ON DATABASE tb_101 TO ROLE tb_data_steward;\n",
    "GRANT USAGE ON ALL SCHEMAS IN DATABASE tb_101 TO ROLE tb_data_steward;\n"
   ],
   "id": "ce110000-1111-2222-3333-ffffff000012"
  },
  {
   "cell_type": "markdown",
   "metadata": {
    "name": "cell14"
   },
   "source": [
    "Snowflakeテーブルとビュー内のデータへのアクセスは、以下の権限によって管理されます：\n",
    "\n",
    "### テーブル/ビュー権限:\n",
    "- **SELECT：** データを取得する能力を付与します。\n",
    "- **INSERT：** 新しい行の追加を許可します。\n",
    "- **UPDATE：** 既存の行の変更を許可します。\n",
    "- **DELETE：** 行の削除を許可します。\n",
    "- **TRUNCATE：** テーブル内のすべての行の削除を許可します。\n",
    "\n",
    "次に、raw_customerスキーマのテーブルでSELECTクエリを実行できることを確認します。\n"
   ],
   "id": "ce110000-1111-2222-3333-ffffff000013"
  },
  {
   "cell_type": "code",
   "execution_count": null,
   "metadata": {
    "name": "cell15",
    "language": "sql"
   },
   "outputs": [],
   "source": [
    "-- RAW_CUSTOMERスキーマのすべてのテーブルにSELECT権限を付与\n",
    "GRANT SELECT ON ALL TABLES IN SCHEMA raw_customer TO ROLE tb_data_steward;\n",
    "-- governanceスキーマとgovernanceスキーマのすべてのテーブルにすべての権限を付与\n",
    "GRANT ALL ON SCHEMA governance TO ROLE tb_data_steward;\n",
    "GRANT ALL ON ALL TABLES IN SCHEMA governance TO ROLE tb_data_steward;\n"
   ],
   "id": "ce110000-1111-2222-3333-ffffff000014"
  },
  {
   "cell_type": "markdown",
   "metadata": {
    "name": "cell16"
   },
   "source": [
    "新しいロールを使用するために、現在のユーザーにもロールを付与する必要があります。次の2つのクエリを実行して、現在のユーザーに新しいデータスチュワードロールを使用する権限を付与します。\n"
   ],
   "id": "ce110000-1111-2222-3333-ffffff000015"
  },
  {
   "cell_type": "code",
   "execution_count": null,
   "metadata": {
    "name": "cell17",
    "language": "sql"
   },
   "outputs": [],
   "source": [
    "SET my_user = CURRENT_USER();\n",
    "GRANT ROLE tb_data_steward TO USER IDENTIFIER($my_user);\n"
   ],
   "id": "ce110000-1111-2222-3333-ffffff000016"
  },
  {
   "cell_type": "markdown",
   "metadata": {
    "name": "cell18"
   },
   "source": [
    "最後に、以下のクエリを実行して新しく作成したロールを使用しましょう！\n",
    "\n",
    "**代替方法：** ワークシートUIの「ロールとウェアハウスを選択」ボタンをクリックし、「tb_data_steward」を選択してロールを使用することもできます。\n"
   ],
   "id": "ce110000-1111-2222-3333-ffffff000017"
  },
  {
   "cell_type": "code",
   "execution_count": null,
   "metadata": {
    "name": "cell19",
    "language": "sql"
   },
   "outputs": [],
   "source": [
    "USE ROLE tb_data_steward;\n"
   ],
   "id": "ce110000-1111-2222-3333-ffffff000018"
  },
  {
   "cell_type": "markdown",
   "metadata": {
    "name": "cell20"
   },
   "source": [
    "お祝いに、作業するデータの種類のアイデアを得ましょう。\n"
   ],
   "id": "ce110000-1111-2222-3333-ffffff000019"
  },
  {
   "cell_type": "code",
   "execution_count": null,
   "metadata": {
    "name": "cell21",
    "language": "sql"
   },
   "outputs": [],
   "source": [
    "SELECT TOP 100 * FROM raw_customer.customer_loyalty;\n"
   ],
   "id": "ce110000-1111-2222-3333-ffffff000020"
  },
  {
   "cell_type": "markdown",
   "metadata": {
    "name": "cell22",
    "collapsed": false
   },
   "source": "顧客ロイヤリティデータが表示されているのは素晴らしいことです！ただし、詳しく調べると、このテーブルには個人識別可能情報（PII）の機密情報が満載であることが明らかです。次のセクションでは、これを軽減する方法をさらに詳しく見ていきます。\n\n![IMAGES](https://lh3.googleusercontent.com/pw/AP1GczMjWQ3LgB9Xq25nLZZakYEMYOQfAaCSN865cjqLMqjgVtwrVHQAjXbBybgCi9XpL1F8m8FUSc8KsXCYSX7uYpNXVWPYPmSvYGsbwBZ7BVqL1gqvGv5DdEL2mZfI2dTxjVUuvSGLH2Y1YjmjdLffXy7u=w1500-h844-s-no-gm?authuser=0)\n",
   "id": "ce110000-1111-2222-3333-ffffff000021"
  },
  {
   "cell_type": "markdown",
   "metadata": {
    "name": "cell23",
    "collapsed": false
   },
   "source": "## 2. 自動タグ付けによるタグベース分類\n\n![IMAGES](https://lh3.googleusercontent.com/pw/AP1GczOwmkRkbQPxEosm9OgQye5rFtHFXhS_1emBjwi9qeL1zqvgTr1kSP0_ZHxwRkyCVDJQXPkpEaHZzoFDSvt47S4-j_t3kTEirWdLNZ507jBgDMZQUgXGUZ7b8o4G0XLOFq4BFEkMuth7AR6U2kXm2Zms=w1500-h844-s-no-gm?authuser=0)\n\n**ユーザーガイド:**  \nhttps://docs.snowflake.com/en/user-guide/classify-auto\n\n前回のクエリで、Customer Loyaltyテーブルに保存されている多くの個人識別可能情報（PII）に気づきました。Snowflakeの自動タグ付け機能をタグベースマスキングと組み合わせて使用し、クエリ結果の機密データを難読化できます。\n\nSnowflakeは、データベーススキーマの列を継続的に監視することで、機密情報を自動的に発見してタグ付けできます。データエンジニアがスキーマに分類プロファイルを割り当てた後、そのスキーマのテーブル内のすべての機密データは、プロファイルのスケジュールに基づいて自動的に分類されます。\n\n分類プロファイルを作成し、列のセマンティックカテゴリに基づいて列に自動的に割り当てられるタグを指定しましょう。まず、accountadminロールに切り替えましょう。\n",
   "id": "ce110000-1111-2222-3333-ffffff000022"
  },
  {
   "cell_type": "code",
   "execution_count": null,
   "metadata": {
    "name": "cell24",
    "language": "sql"
   },
   "outputs": [],
   "source": [
    "USE ROLE accountadmin;\n"
   ],
   "id": "ce110000-1111-2222-3333-ffffff000023"
  },
  {
   "cell_type": "markdown",
   "metadata": {
    "name": "cell25"
   },
   "source": [
    "ガバナンススキーマを作成し、その中にPII用のタグを作成し、新しいロールにデータベースオブジェクトにタグを適用する権限を付与します。\n"
   ],
   "id": "ce110000-1111-2222-3333-ffffff000024"
  },
  {
   "cell_type": "code",
   "execution_count": null,
   "metadata": {
    "name": "cell26",
    "language": "sql"
   },
   "outputs": [],
   "source": [
    "CREATE OR REPLACE TAG governance.pii;\n",
    "GRANT APPLY TAG ON ACCOUNT TO ROLE tb_data_steward;\n"
   ],
   "id": "ce110000-1111-2222-3333-ffffff000025"
  },
  {
   "cell_type": "markdown",
   "metadata": {
    "name": "cell27"
   },
   "source": [
    "まず、ロールtb_data_stewardに適切な権限を付与して、データ分類を実行し、raw_customerスキーマで分類プロファイルを作成できるようにする必要があります。\n"
   ],
   "id": "ce110000-1111-2222-3333-ffffff000026"
  },
  {
   "cell_type": "code",
   "execution_count": null,
   "metadata": {
    "name": "cell28",
    "language": "sql"
   },
   "outputs": [],
   "source": [
    "GRANT EXECUTE AUTO CLASSIFICATION ON SCHEMA raw_customer TO ROLE tb_data_steward;\n",
    "GRANT DATABASE ROLE SNOWFLAKE.CLASSIFICATION_ADMIN TO ROLE tb_data_steward;\n",
    "GRANT CREATE SNOWFLAKE.DATA_PRIVACY.CLASSIFICATION_PROFILE ON SCHEMA governance TO ROLE tb_data_steward;\n"
   ],
   "id": "ce110000-1111-2222-3333-ffffff000027"
  },
  {
   "cell_type": "markdown",
   "metadata": {
    "name": "cell29"
   },
   "source": [
    "データスチュワードロールに戻ります。\n"
   ],
   "id": "ce110000-1111-2222-3333-ffffff000028"
  },
  {
   "cell_type": "code",
   "execution_count": null,
   "metadata": {
    "name": "cell30",
    "language": "sql"
   },
   "outputs": [],
   "source": [
    "USE ROLE tb_data_steward;\n"
   ],
   "id": "ce110000-1111-2222-3333-ffffff000029"
  },
  {
   "cell_type": "markdown",
   "metadata": {
    "name": "cell31"
   },
   "source": [
    "分類プロファイルを作成します。スキーマに追加されたオブジェクトは即座に分類され、30日間有効で、自動的にタグ付けされます。\n"
   ],
   "id": "ce110000-1111-2222-3333-ffffff000030"
  },
  {
   "cell_type": "code",
   "execution_count": null,
   "metadata": {
    "name": "cell32",
    "language": "sql"
   },
   "outputs": [],
   "source": [
    "CREATE OR REPLACE SNOWFLAKE.DATA_PRIVACY.CLASSIFICATION_PROFILE\n",
    "  governance.tb_classification_profile(\n",
    "    {\n",
    "      'minimum_object_age_for_classification_days': 0,\n",
    "      'maximum_classification_validity_days': 30,\n",
    "      'auto_tag': true\n",
    "    });\n"
   ],
   "id": "ce110000-1111-2222-3333-ffffff000031"
  },
  {
   "cell_type": "markdown",
   "metadata": {
    "name": "cell33"
   },
   "source": [
    "指定されたセマンティックカテゴリに基づいて列を自動的にタグ付けするタグマップを作成します。これは、semantic_categories配列内の値のいずれかで分類された列が、PIIタグで自動的にタグ付けされることを意味します。\n"
   ],
   "id": "ce110000-1111-2222-3333-ffffff000032"
  },
  {
   "cell_type": "code",
   "execution_count": null,
   "metadata": {
    "name": "cell34",
    "language": "sql"
   },
   "outputs": [],
   "source": [
    "CALL governance.tb_classification_profile!SET_TAG_MAP(\n",
    "  {'column_tag_map':[\n",
    "    {\n",
    "      'tag_name':'tb_101.governance.pii',\n",
    "      'tag_value':'pii',\n",
    "      'semantic_categories':['NAME', 'PHONE_NUMBER', 'POSTAL_CODE', 'DATE_OF_BIRTH', 'CITY', 'EMAIL']\n",
    "    }]});\n"
   ],
   "id": "ce110000-1111-2222-3333-ffffff000033"
  },
  {
   "cell_type": "markdown",
   "metadata": {
    "name": "cell35"
   },
   "source": [
    "SYSTEM$CLASSIFYを呼び出して、分類プロファイルでcustomer_loyaltyテーブルを自動的に分類します。\n"
   ],
   "id": "ce110000-1111-2222-3333-ffffff000034"
  },
  {
   "cell_type": "code",
   "execution_count": null,
   "metadata": {
    "name": "cell36",
    "language": "sql"
   },
   "outputs": [],
   "source": [
    "CALL SYSTEM$CLASSIFY('tb_101.raw_customer.customer_loyalty', 'tb_101.governance.tb_classification_profile');\n"
   ],
   "id": "ce110000-1111-2222-3333-ffffff000035"
  },
  {
   "cell_type": "markdown",
   "metadata": {
    "name": "cell37"
   },
   "source": [
    "次のクエリを実行して、自動分類とタグ付けの結果を確認します。すべてのSnowflakeアカウントで利用可能な自動生成されたINFORMATION_SCHEMAからメタデータを取得します。各列がどのようにタグ付けされ、以前のステップで作成した分類プロファイルとどのように関連しているかを確認してください。\n",
    "\n",
    "すべての列がPRIVACY_CATEGORYとSEMANTIC_CATEGORYタグでタグ付けされており、それぞれ独自の目的があることがわかります。PRIVACY_CATEGORYは列内の個人データの機密レベルを示し、SEMANTIC_CATEGORYはデータが表す現実世界の概念を記述します。\n",
    "\n",
    "最後に、分類タグマップ配列で指定したセマンティックカテゴリでタグ付けされた列が、カスタム「PII」タグでタグ付けされていることに注意してください。\n"
   ],
   "id": "ce110000-1111-2222-3333-ffffff000036"
  },
  {
   "cell_type": "code",
   "execution_count": null,
   "metadata": {
    "name": "cell38",
    "language": "sql"
   },
   "outputs": [],
   "source": [
    "SELECT \n",
    "    column_name,\n",
    "    tag_database,\n",
    "    tag_schema,\n",
    "    tag_name,\n",
    "    tag_value,\n",
    "    apply_method\n",
    "FROM TABLE(INFORMATION_SCHEMA.TAG_REFERENCES_ALL_COLUMNS('raw_customer.customer_loyalty', 'table'));\n"
   ],
   "id": "ce110000-1111-2222-3333-ffffff000037"
  },
  {
   "cell_type": "markdown",
   "metadata": {
    "name": "cell39",
    "collapsed": false
   },
   "source": "## 3. マスキングポリシーによる列レベルセキュリティ\n\n![IMAGES](https://lh3.googleusercontent.com/pw/AP1GczPV6KHqjpQWt3_CIsHniOX2gxd-C4Aih6we_sL5WG-t8wCj6EAj6MLt1riagvBd6nqVEkJpb15Beu3ZNEHrA51R5xSSfmFuZX0uYxeHYvvyKY3jvlbgG9ghltg4upPP7ZkQDssaW15KrOgjF2-dmhs4=w1500-h844-s-no-gm?authuser=0)\n\n![IMAGES](https://lh3.googleusercontent.com/pw/AP1GczMyso-urSSi2jwoTVCdFtvSkcThoepL46crpE_jjZH6Bl-euuxmbYxbdgi1Plh3J4NiB0XYgL7-sazfJzVJ2xZfOc9MONAburSlPP5Gld5d56N81XkycgtbwknJsWyTrzAXzpRXLdo0kkUDJUBUvcps=w1500-h844-s-no-gm?authuser=0)\n\n**ユーザーガイド:**  \nhttps://docs.snowflake.com/en/user-guide/security-column-intro\n\nSnowflakeの列レベルセキュリティでは、マスキングポリシーを使用して列内のデータを保護できます。主な機能が2つあります：クエリ時に機密データを隠す、または変換できる動的データマスキングと、データがSnowflakeに入る前にトークン化し、クエリ時にデトークン化できる外部トークン化です。\n\n機密列がPIIとしてタグ付けされたので、そのタグに関連付けるマスキングポリシーをいくつか作成します。最初のものは、名前（姓と名）、メール、電話番号などの機密文字列データ用です。2番目は、誕生日などの機密DATE値用です。\n\nマスキングロジックは両方とも似ています：現在のロールがPIIタグ付き列をクエリし、アカウント管理者またはTastyBytes管理者でない場合、文字列値は「MASKED」を表示します。日付値は元の年のみを表示し、月と日は01-01になります。\n",
   "id": "ce110000-1111-2222-3333-ffffff000038"
  },
  {
   "cell_type": "markdown",
   "metadata": {
    "name": "cell40"
   },
   "source": [
    "機密文字列データ用のマスキングポリシーを作成\n"
   ],
   "id": "ce110000-1111-2222-3333-ffffff000039"
  },
  {
   "cell_type": "code",
   "execution_count": null,
   "metadata": {
    "name": "cell41",
    "language": "sql"
   },
   "outputs": [],
   "source": [
    "CREATE OR REPLACE MASKING POLICY governance.mask_string_pii AS (original_value STRING)\n",
    "RETURNS STRING ->\n",
    "  CASE WHEN\n",
    "    -- ユーザーの現在のロールが特権ロールの1つでない場合、列をマスクします。\n",
    "    CURRENT_ROLE() NOT IN ('ACCOUNTADMIN', 'TB_ADMIN')\n",
    "    THEN '****MASKED****'\n",
    "    -- そうでなければ（タグが機密でない、またはロールが特権を持つ場合）、元の値を表示します。\n",
    "    ELSE original_value\n",
    "  END;\n"
   ],
   "id": "ce110000-1111-2222-3333-ffffff000040"
  },
  {
   "cell_type": "markdown",
   "metadata": {
    "name": "cell42"
   },
   "source": [
    "機密DATEデータ用のマスキングポリシーを作成\n"
   ],
   "id": "ce110000-1111-2222-3333-ffffff000041"
  },
  {
   "cell_type": "code",
   "execution_count": null,
   "metadata": {
    "name": "cell43",
    "language": "sql"
   },
   "outputs": [],
   "source": [
    "CREATE OR REPLACE MASKING POLICY governance.mask_date_pii AS (original_value DATE)\n",
    "RETURNS DATE ->\n",
    "  CASE WHEN\n",
    "    CURRENT_ROLE() NOT IN ('ACCOUNTADMIN', 'TB_ADMIN')\n",
    "    THEN DATE_TRUNC('year', original_value) -- マスクされた場合、年のみが変更されず、月と日は01-01になります\n",
    "    ELSE original_value\n",
    "  END;\n"
   ],
   "id": "ce110000-1111-2222-3333-ffffff000042"
  },
  {
   "cell_type": "markdown",
   "metadata": {
    "name": "cell44"
   },
   "source": [
    "顧客ロイヤリティテーブルに自動的に適用されたタグに両方のマスキングポリシーを添付\n"
   ],
   "id": "ce110000-1111-2222-3333-ffffff000043"
  },
  {
   "cell_type": "code",
   "execution_count": null,
   "metadata": {
    "name": "cell45",
    "language": "sql"
   },
   "outputs": [],
   "source": [
    "ALTER TAG governance.pii SET\n",
    "    MASKING POLICY governance.mask_string_pii,\n",
    "    MASKING POLICY governance.mask_date_pii;\n"
   ],
   "id": "ce110000-1111-2222-3333-ffffff000044"
  },
  {
   "cell_type": "markdown",
   "metadata": {
    "name": "cell46"
   },
   "source": [
    "publicロールに切り替えて、顧客ロイヤリティテーブルから最初の100行をクエリし、マスキングポリシーが機密データをどのように難読化するかを観察します。\n"
   ],
   "id": "ce110000-1111-2222-3333-ffffff000045"
  },
  {
   "cell_type": "code",
   "execution_count": null,
   "metadata": {
    "name": "cell47",
    "language": "sql"
   },
   "outputs": [],
   "source": [
    "USE ROLE public;\n",
    "SELECT TOP 100 * FROM raw_customer.customer_loyalty;\n"
   ],
   "id": "ce110000-1111-2222-3333-ffffff000046"
  },
  {
   "cell_type": "markdown",
   "metadata": {
    "name": "cell48"
   },
   "source": [
    "今度は、TB_ADMINロールに切り替えて、マスキングポリシーが管理者ロールに適用されないことを観察\n"
   ],
   "id": "ce110000-1111-2222-3333-ffffff000047"
  },
  {
   "cell_type": "code",
   "execution_count": null,
   "metadata": {
    "name": "cell49",
    "language": "sql"
   },
   "outputs": [],
   "source": [
    "USE ROLE tb_admin;\n",
    "SELECT TOP 100 * FROM raw_customer.customer_loyalty;\n"
   ],
   "id": "ce110000-1111-2222-3333-ffffff000048"
  },
  {
   "cell_type": "markdown",
   "metadata": {
    "name": "cell50"
   },
   "source": [
    "## 4. 行アクセスポリシーによる行レベルセキュリティ\n",
    "\n",
    "**ユーザーガイド:**  \n",
    "https://docs.snowflake.com/en/user-guide/security-row-intro\n",
    "\n",
    "Snowflakeは、行アクセスポリシーを使用した行レベルセキュリティをサポートして、クエリ結果で返される行を決定します。ポリシーはテーブルに添付され、定義したルールに対して各行を評価することで機能します。これらのルールは、現在のロールなど、クエリを実行するユーザーの属性をよく使用します。\n",
    "\n",
    "例えば、行アクセスポリシーを使用して、米国のユーザーが米国内の顧客のデータのみを表示することを確実にできます。\n",
    "\n",
    "まず、データスチュワードロールに切り替えましょう。\n"
   ],
   "id": "ce110000-1111-2222-3333-ffffff000049"
  },
  {
   "cell_type": "code",
   "execution_count": null,
   "metadata": {
    "name": "cell51",
    "language": "sql"
   },
   "outputs": [],
   "source": [
    "USE ROLE tb_data_steward;\n"
   ],
   "id": "ce110000-1111-2222-3333-ffffff000050"
  },
  {
   "cell_type": "markdown",
   "metadata": {
    "name": "cell52"
   },
   "source": [
    "行アクセスポリシーを作成する前に、行ポリシーマップを作成します。\n"
   ],
   "id": "ce110000-1111-2222-3333-ffffff000051"
  },
  {
   "cell_type": "code",
   "execution_count": null,
   "metadata": {
    "name": "cell53",
    "language": "sql"
   },
   "outputs": [],
   "source": [
    "CREATE OR REPLACE TABLE governance.row_policy_map\n",
    "    (role STRING, country_permission STRING);\n"
   ],
   "id": "ce110000-1111-2222-3333-ffffff000052"
  },
  {
   "cell_type": "markdown",
   "metadata": {
    "name": "cell54"
   },
   "source": [
    "行ポリシーマップは、ロールを許可されたアクセス行値に関連付けます。例えば、ロールtb_data_engineerを国の値「United States」に関連付けると、tb_data_engineerは国の値が「United States」の行のみを表示します。\n"
   ],
   "id": "ce110000-1111-2222-3333-ffffff000053"
  },
  {
   "cell_type": "code",
   "execution_count": null,
   "metadata": {
    "name": "cell55",
    "language": "sql"
   },
   "outputs": [],
   "source": [
    "INSERT INTO governance.row_policy_map\n",
    "    VALUES('tb_data_engineer', 'United States');\n"
   ],
   "id": "ce110000-1111-2222-3333-ffffff000054"
  },
  {
   "cell_type": "markdown",
   "metadata": {
    "name": "cell56"
   },
   "source": [
    "行ポリシーマップが配置されたので、行アクセスポリシーを作成します。\n",
    "\n",
    "このポリシーは、管理者が無制限の行アクセスを持ち、ポリシーマップ内の他のロールは関連する国に一致する行のみを表示できることを述べています。\n"
   ],
   "id": "ce110000-1111-2222-3333-ffffff000055"
  },
  {
   "cell_type": "code",
   "execution_count": null,
   "metadata": {
    "name": "cell57",
    "language": "sql"
   },
   "outputs": [],
   "source": [
    "CREATE OR REPLACE ROW ACCESS POLICY governance.customer_loyalty_policy\n",
    "    AS (country STRING) RETURNS BOOLEAN ->\n",
    "        CURRENT_ROLE() IN ('ACCOUNTADMIN', 'SYSADMIN') \n",
    "        OR EXISTS \n",
    "            (\n",
    "            SELECT 1\n",
    "                FROM governance.row_policy_map rp\n",
    "            WHERE\n",
    "                UPPER(rp.role) = CURRENT_ROLE()\n",
    "                AND rp.country_permission = country\n",
    "            );\n"
   ],
   "id": "ce110000-1111-2222-3333-ffffff000056"
  },
  {
   "cell_type": "markdown",
   "metadata": {
    "name": "cell58"
   },
   "source": [
    "'country'列の顧客ロイヤリティテーブルに行アクセスポリシーを適用。\n"
   ],
   "id": "ce110000-1111-2222-3333-ffffff000057"
  },
  {
   "cell_type": "code",
   "execution_count": null,
   "metadata": {
    "name": "cell59",
    "language": "sql"
   },
   "outputs": [],
   "source": [
    "ALTER TABLE raw_customer.customer_loyalty\n",
    "    ADD ROW ACCESS POLICY governance.customer_loyalty_policy ON (country);\n"
   ],
   "id": "ce110000-1111-2222-3333-ffffff000058"
  },
  {
   "cell_type": "markdown",
   "metadata": {
    "name": "cell60"
   },
   "source": [
    "今度は、行ポリシーマップで「United States」に関連付けたロールに切り替えて、行アクセスポリシーがあるテーブルをクエリした結果を観察します。\n"
   ],
   "id": "ce110000-1111-2222-3333-ffffff000059"
  },
  {
   "cell_type": "code",
   "execution_count": null,
   "metadata": {
    "name": "cell61",
    "language": "sql"
   },
   "outputs": [],
   "source": [
    "USE ROLE tb_data_engineer;\n",
    "-- 米国の顧客のみが表示されるはずです。 \n",
    "SELECT TOP 100 * FROM raw_customer.customer_loyalty;\n"
   ],
   "id": "ce110000-1111-2222-3333-ffffff000060"
  },
  {
   "cell_type": "markdown",
   "metadata": {
    "name": "cell62"
   },
   "source": [
    "お疲れ様でした！Snowflakeの列および行レベルセキュリティ戦略でデータをガバナンスし、セキュリティを確保する方法についてより良い理解が得られたはずです。個人識別可能情報を含む列をセキュリティ保護するためにマスキングポリシーと組み合わせて使用するタグの作成方法と、ロールが特定の列値のみにアクセスすることを確実にする行アクセスポリシーについて学びました。\n"
   ],
   "id": "ce110000-1111-2222-3333-ffffff000061"
  },
  {
   "cell_type": "markdown",
   "metadata": {
    "name": "cell63"
   },
   "source": [
    "## 5. データメトリック関数によるデータ品質監視\n",
    "\n",
    "**ユーザーガイド:**  \n",
    "https://docs.snowflake.com/en/user-guide/data-quality-intro\n",
    "\n",
    "Snowflakeは、プラットフォーム内で直接品質チェックを自動化する強力な機能であるデータメトリック関数（DMF）を使用してデータの一貫性と信頼性を維持します。これらのチェックをテーブルやビューでスケジュールすることで、ユーザーはデータの整合性を明確に理解でき、より信頼性の高いデータに基づいた意思決定につながります。\n",
    "\n",
    "Snowflakeは、即座に使用できる事前構築されたシステムDMFと、独自のビジネスロジック用のカスタムDMFを作成する柔軟性の両方を提供し、包括的な品質監視を確保します。\n",
    "\n",
    "システムDMFのいくつかを見てみましょう！\n"
   ],
   "id": "ce110000-1111-2222-3333-ffffff000062"
  },
  {
   "cell_type": "markdown",
   "metadata": {
    "name": "cell64"
   },
   "source": [
    "DMFの使用を開始するためにTasteBytesデータスチュワードロールに戻ります\n"
   ],
   "id": "ce110000-1111-2222-3333-ffffff000063"
  },
  {
   "cell_type": "code",
   "execution_count": null,
   "metadata": {
    "name": "cell65",
    "language": "sql"
   },
   "outputs": [],
   "source": [
    "USE ROLE tb_data_steward;\n"
   ],
   "id": "ce110000-1111-2222-3333-ffffff000064"
  },
  {
   "cell_type": "markdown",
   "metadata": {
    "name": "cell66"
   },
   "source": [
    "これにより、注文ヘッダーテーブルからのnull顧客IDの割合が返されます。\n"
   ],
   "id": "ce110000-1111-2222-3333-ffffff000065"
  },
  {
   "cell_type": "code",
   "execution_count": null,
   "metadata": {
    "name": "cell67",
    "language": "sql"
   },
   "outputs": [],
   "source": [
    "SELECT SNOWFLAKE.CORE.NULL_PERCENT(SELECT customer_id FROM raw_pos.order_header);\n"
   ],
   "id": "ce110000-1111-2222-3333-ffffff000066"
  },
  {
   "cell_type": "markdown",
   "metadata": {
    "name": "cell68"
   },
   "source": [
    "DUPLICATE_COUNTを使用して重複する注文IDをチェックできます。\n"
   ],
   "id": "ce110000-1111-2222-3333-ffffff000067"
  },
  {
   "cell_type": "code",
   "execution_count": null,
   "metadata": {
    "name": "cell69",
    "language": "sql"
   },
   "outputs": [],
   "source": [
    "SELECT SNOWFLAKE.CORE.DUPLICATE_COUNT(SELECT order_id FROM raw_pos.order_header);\n"
   ],
   "id": "ce110000-1111-2222-3333-ffffff000068"
  },
  {
   "cell_type": "markdown",
   "metadata": {
    "name": "cell70"
   },
   "source": [
    "すべての注文の平均注文合計金額\n"
   ],
   "id": "ce110000-1111-2222-3333-ffffff000069"
  },
  {
   "cell_type": "code",
   "execution_count": null,
   "metadata": {
    "name": "cell71",
    "language": "sql"
   },
   "outputs": [],
   "source": [
    "SELECT SNOWFLAKE.CORE.AVG(SELECT order_total FROM raw_pos.order_header);\n"
   ],
   "id": "ce110000-1111-2222-3333-ffffff000070"
  },
  {
   "cell_type": "markdown",
   "metadata": {
    "name": "cell72"
   },
   "source": [
    "特定のビジネスルールに従ってデータ品質を監視するための独自のカスタムデータメトリック関数も作成できます。単価×数量と等しくない注文合計をチェックするカスタムDMFを作成します。\n"
   ],
   "id": "ce110000-1111-2222-3333-ffffff000071"
  },
  {
   "cell_type": "markdown",
   "metadata": {
    "name": "cell73"
   },
   "source": [
    "カスタムデータメトリック関数を作成\n"
   ],
   "id": "ce110000-1111-2222-3333-ffffff000072"
  },
  {
   "cell_type": "code",
   "execution_count": null,
   "metadata": {
    "name": "cell74",
    "language": "sql"
   },
   "outputs": [],
   "source": [
    "CREATE OR REPLACE DATA METRIC FUNCTION governance.invalid_order_total_count(\n",
    "    order_prices_t table(\n",
    "        order_total NUMBER,\n",
    "        unit_price NUMBER,\n",
    "        quantity INTEGER\n",
    "    )\n",
    ")\n",
    "RETURNS NUMBER\n",
    "AS\n",
    "'SELECT COUNT(*)\n",
    " FROM order_prices_t\n",
    " WHERE order_total != unit_price * quantity';\n"
   ],
   "id": "ce110000-1111-2222-3333-ffffff000073"
  },
  {
   "cell_type": "markdown",
   "metadata": {
    "name": "cell75"
   },
   "source": [
    "合計が単価×数量と等しくない新しい注文をシミュレート\n"
   ],
   "id": "ce110000-1111-2222-3333-ffffff000074"
  },
  {
   "cell_type": "code",
   "execution_count": null,
   "metadata": {
    "name": "cell76",
    "language": "sql"
   },
   "outputs": [],
   "source": [
    "INSERT INTO raw_pos.order_detail\n",
    "SELECT\n",
    "    904745311,\n",
    "    459520442,\n",
    "    52,\n",
    "    null,\n",
    "    0,\n",
    "    2, -- 数量\n",
    "    5.0, -- 単価\n",
    "    5.0, -- 合計価格（意図的に不正確）\n",
    "    null;\n"
   ],
   "id": "ce110000-1111-2222-3333-ffffff000075"
  },
  {
   "cell_type": "markdown",
   "metadata": {
    "name": "cell77"
   },
   "source": [
    "注文詳細テーブルでカスタムDMFを呼び出し。\n"
   ],
   "id": "ce110000-1111-2222-3333-ffffff000076"
  },
  {
   "cell_type": "code",
   "execution_count": null,
   "metadata": {
    "name": "cell78",
    "language": "sql"
   },
   "outputs": [],
   "source": [
    "SELECT governance.invalid_order_total_count(\n",
    "    SELECT \n",
    "        price, \n",
    "        unit_price, \n",
    "        quantity \n",
    "    FROM raw_pos.order_detail\n",
    ") AS num_orders_with_incorrect_price;\n"
   ],
   "id": "ce110000-1111-2222-3333-ffffff000077"
  },
  {
   "cell_type": "markdown",
   "metadata": {
    "name": "cell79"
   },
   "source": [
    "変更時にトリガーするように注文詳細テーブルにデータメトリックスケジュールを設定\n"
   ],
   "id": "ce110000-1111-2222-3333-ffffff000078"
  },
  {
   "cell_type": "code",
   "execution_count": null,
   "metadata": {
    "name": "cell80",
    "language": "sql"
   },
   "outputs": [],
   "source": [
    "ALTER TABLE raw_pos.order_detail\n",
    "    SET DATA_METRIC_SCHEDULE = 'TRIGGER_ON_CHANGES';\n"
   ],
   "id": "ce110000-1111-2222-3333-ffffff000079"
  },
  {
   "cell_type": "markdown",
   "metadata": {
    "name": "cell81"
   },
   "source": [
    "テーブルにカスタムDMFを割り当て\n"
   ],
   "id": "ce110000-1111-2222-3333-ffffff000080"
  },
  {
   "cell_type": "code",
   "execution_count": null,
   "metadata": {
    "name": "cell82",
    "language": "sql"
   },
   "outputs": [],
   "source": [
    "ALTER TABLE raw_pos.order_detail\n",
    "    ADD DATA METRIC FUNCTION governance.invalid_order_total_count\n",
    "    ON (price, unit_price, quantity);\n"
   ],
   "id": "ce110000-1111-2222-3333-ffffff000081"
  },
  {
   "cell_type": "markdown",
   "metadata": {
    "name": "cell83"
   },
   "source": [
    "## 6. Trust Centerによるアカウントセキュリティ監視\n",
    "\n",
    "**ユーザーガイド:**  \n",
    "https://docs.snowflake.com/en/user-guide/trust-center/overview\n",
    "\n",
    "Trust Centerは、スキャナーを使用してアカウントのセキュリティリスクを評価・監視する自動チェックを可能にします。スキャナーは、アカウントのセキュリティリスクと違反をチェックし、その結果に基づいて推奨アクションを提供するスケジュールされたバックグラウンドプロセスです。これらはしばしばスキャナーパッケージにグループ化されます。\n",
    "\n",
    "### Trust Centerの一般的なユースケース：\n",
    "- ユーザーの多要素認証が有効になっていることを確認\n",
    "- 過剰に特権化されたロールの発見\n",
    "- 最低90日間ログインしていない非アクティブユーザーの発見\n",
    "- リスクの高いユーザーの発見と軽減\n",
    "\n",
    "開始する前に、Trust Centerの管理者になるために必要な権限を管理者ロールに付与する必要があります。\n"
   ],
   "id": "ce110000-1111-2222-3333-ffffff000082"
  },
  {
   "cell_type": "code",
   "execution_count": null,
   "metadata": {
    "name": "cell84",
    "language": "sql"
   },
   "outputs": [],
   "source": [
    "USE ROLE accountadmin;\n",
    "GRANT APPLICATION ROLE SNOWFLAKE.TRUST_CENTER_ADMIN TO ROLE tb_admin;\n",
    "USE ROLE tb_admin;\n"
   ],
   "id": "ce110000-1111-2222-3333-ffffff000083"
  },
  {
   "cell_type": "markdown",
   "metadata": {
    "name": "cell85"
   },
   "source": [
    "### Trust Centerへのアクセス\n",
    "\n",
    "ナビゲーションメニューの「監視」ボタンをクリックし、次に「Trust Center」をクリックしてTrust Centerにアクセスできます。必要に応じて別のブラウザタブでTrust Centerを開くことができます。\n",
    "\n",
    "Trust Centerを最初にロードすると、いくつかのペインとセクションが表示されます：\n",
    "1. タブ：検出事項、スキャナーパッケージ\n",
    "2. パスワード準備状況ペイン\n",
    "3. オープンセキュリティ違反\n",
    "4. フィルター付き違反リスト\n",
    "\n",
    "タブの下にCIS BenchmarksスキャナーパッケージIを有効にすることを促すメッセージが表示される場合があります。次にそれを実行します。\n",
    "\n",
    "### スキャナーパッケージの有効化\n",
    "\n",
    "「スキャナーパッケージ」タブをクリックします。ここにスキャナーパッケージのリストが表示されます。これらは、アカウントのセキュリティリスクをチェックするスキャナーまたはスケジュールされたバックグラウンドプロセスのグループです。各スキャナーパッケージについて、名前、プロバイダー、アクティブおよび非アクティブスキャナーの数、ステータスを確認できます。セキュリティエッセンシャルスキャナーパッケージを除き、すべてのスキャナーパッケージはデフォルトで無効になっています。\n",
    "\n",
    "「CIS Benchmarks」をクリックして、スキャナーパッケージの詳細を確認します。ここで、パッケージを有効にするオプションとともにスキャナーパッケージの名前と説明が表示されます。その下には、スキャナーパッケージ内のスキャナーのリストがあります。これらのスキャナーのいずれかをクリックして、スケジュール、最後に実行された時刻と日、説明などの詳細を確認できます。\n",
    "\n",
    "「パッケージを有効にする」ボタンをクリックして今すぐ有効にしましょう。これにより「スキャナーパッケージを有効にする」モーダルが表示され、スキャナーパッケージのスケジュールを設定できます。このパッケージを月次スケジュールで実行するよう設定しましょう。\n",
    "\n",
    "「頻度」のドロップダウンをクリックし、「月次」のオプションを選択します。他のすべての値はそのままにしておきます。パッケージは有効化されたときと設定されたスケジュールで自動的に実行されます。\n",
    "\n",
    "オプションで、通知設定を設定できます。最小重要度トリガーレベルが「クリティカル」で、受信者で「管理者ユーザー」が選択されているデフォルト値を維持できます。「続行」を押します。スキャナーパッケージが完全に有効になるまで数分かかる場合があります。\n",
    "\n",
    "アカウントで「脅威インテリジェンス」スキャナーパッケージについてもう一度これを繰り返しましょう。前回のスキャナーパッケージと同じ設定を使用します。\n",
    "\n",
    "両方のパッケージが有効になったら、「検出事項」タブに戻って、スキャナーパッケージが発見した違反を確認しましょう。\n",
    "\n",
    "各重要度レベルでの違反数のグラフとともに、違反リストにより多くのエントリが表示されるはずです。違反リストでは、短い説明、重要度、スキャナーパッケージを含む、すべての違反に関する詳細情報を確認できます。違反を解決済みとしてマークするオプションもあります。さらに、個々の違反をクリックすると、要約や修復のオプションなど、違反に関するより詳細な情報を含む詳細ペインが表示されます。\n",
    "\n",
    "違反リストは、ドロップダウンオプションを使用してステータス、重要度、スキャナーパッケージでフィルタリングできます。違反グラフの重要度カテゴリをクリックすることで、その種類のフィルターも適用されます。\n",
    "\n",
    "現在アクティブなフィルターカテゴリの横にある「X」をクリックしてフィルターをキャンセルします。\n"
   ],
   "id": "ce110000-1111-2222-3333-ffffff000084"
  },
  {
   "cell_type": "markdown",
   "metadata": {
    "name": "cell86"
   },
   "source": [
    "---\n",
    "\n",
    "## RESET\n",
    "\n",
    "---\n",
    "\n",
    "作成されたオブジェクトを削除\n"
   ],
   "id": "ce110000-1111-2222-3333-ffffff000085"
  },
  {
   "cell_type": "code",
   "execution_count": null,
   "metadata": {
    "name": "cell87",
    "language": "sql"
   },
   "outputs": [],
   "source": [
    "USE ROLE accountadmin;\n",
    "\n",
    "-- データスチュワード用ロールを削除\n",
    "DROP ROLE IF EXISTS tb_data_steward;\n"
   ],
   "id": "ce110000-1111-2222-3333-ffffff000086"
  },
  {
   "cell_type": "markdown",
   "metadata": {
    "name": "cell88"
   },
   "source": [
    "マスキングポリシーを削除\n"
   ],
   "id": "ce110000-1111-2222-3333-ffffff000087"
  },
  {
   "cell_type": "code",
   "execution_count": null,
   "metadata": {
    "name": "cell89",
    "language": "sql"
   },
   "outputs": [],
   "source": [
    "ALTER TAG IF EXISTS governance.pii UNSET\n",
    "    MASKING POLICY governance.mask_string_pii,\n",
    "    MASKING POLICY governance.mask_date_pii;\n",
    "DROP MASKING POLICY IF EXISTS governance.mask_string_pii;\n",
    "DROP MASKING POLICY IF EXISTS governance.mask_date_pii;\n"
   ],
   "id": "ce110000-1111-2222-3333-ffffff000088"
  },
  {
   "cell_type": "markdown",
   "metadata": {
    "name": "cell90"
   },
   "source": [
    "自動分類を削除\n"
   ],
   "id": "ce110000-1111-2222-3333-ffffff000089"
  },
  {
   "cell_type": "code",
   "execution_count": null,
   "metadata": {
    "name": "cell91",
    "language": "sql"
   },
   "outputs": [],
   "source": [
    "ALTER SCHEMA raw_customer UNSET CLASSIFICATION_PROFILE;\n",
    "DROP SNOWFLAKE.DATA_PRIVACY.CLASSIFICATION_PROFILE IF EXISTS tb_classification_profile;\n"
   ],
   "id": "ce110000-1111-2222-3333-ffffff000090"
  },
  {
   "cell_type": "markdown",
   "metadata": {
    "name": "cell92"
   },
   "source": [
    "行アクセスポリシーを削除\n"
   ],
   "id": "ce110000-1111-2222-3333-ffffff000091"
  },
  {
   "cell_type": "code",
   "execution_count": null,
   "metadata": {
    "name": "cell93",
    "language": "sql"
   },
   "outputs": [],
   "source": [
    "ALTER TABLE raw_customer.customer_loyalty \n",
    "    DROP ROW ACCESS POLICY governance.customer_loyalty_policy;\n",
    "DROP ROW ACCESS POLICY IF EXISTS governance.customer_loyalty_policy;\n"
   ],
   "id": "ce110000-1111-2222-3333-ffffff000092"
  },
  {
   "cell_type": "markdown",
   "metadata": {
    "name": "cell94"
   },
   "source": [
    "データメトリック関数を削除\n"
   ],
   "id": "ce110000-1111-2222-3333-ffffff000093"
  },
  {
   "cell_type": "code",
   "execution_count": null,
   "metadata": {
    "name": "cell95",
    "language": "sql"
   },
   "outputs": [],
   "source": [
    "DELETE FROM raw_pos.order_detail WHERE order_detail_id = 904745311;\n",
    "ALTER TABLE raw_pos.order_detail\n",
    "    DROP DATA METRIC FUNCTION governance.invalid_order_total_count ON (price, unit_price, quantity);\n",
    "DROP FUNCTION governance.invalid_order_total_count(TABLE(NUMBER, NUMBER, INTEGER));\n",
    "ALTER TABLE raw_pos.order_detail UNSET DATA_METRIC_SCHEDULE;\n"
   ],
   "id": "ce110000-1111-2222-3333-ffffff000094"
  },
  {
   "cell_type": "markdown",
   "metadata": {
    "name": "cell96"
   },
   "source": [
    "タグの解除\n"
   ],
   "id": "ce110000-1111-2222-3333-ffffff000095"
  },
  {
   "cell_type": "code",
   "execution_count": null,
   "metadata": {
    "name": "cell97",
    "language": "sql"
   },
   "outputs": [],
   "source": [
    "ALTER TABLE raw_customer.customer_loyalty\n",
    "  MODIFY\n",
    "    COLUMN first_name UNSET TAG governance.pii, SNOWFLAKE.CORE.PRIVACY_CATEGORY, SNOWFLAKE.CORE.SEMANTIC_CATEGORY,\n",
    "    COLUMN last_name UNSET TAG governance.pii, SNOWFLAKE.CORE.PRIVACY_CATEGORY, SNOWFLAKE.CORE.SEMANTIC_CATEGORY,\n",
    "    COLUMN e_mail UNSET TAG governance.pii, SNOWFLAKE.CORE.PRIVACY_CATEGORY, SNOWFLAKE.CORE.SEMANTIC_CATEGORY,\n",
    "    COLUMN phone_number UNSET TAG governance.pii, SNOWFLAKE.CORE.PRIVACY_CATEGORY, SNOWFLAKE.CORE.SEMANTIC_CATEGORY,\n",
    "    COLUMN postal_code UNSET TAG governance.pii, SNOWFLAKE.CORE.PRIVACY_CATEGORY, SNOWFLAKE.CORE.SEMANTIC_CATEGORY,\n",
    "    COLUMN marital_status UNSET TAG governance.pii, SNOWFLAKE.CORE.PRIVACY_CATEGORY, SNOWFLAKE.CORE.SEMANTIC_CATEGORY,\n",
    "    COLUMN gender UNSET TAG governance.pii, SNOWFLAKE.CORE.PRIVACY_CATEGORY, SNOWFLAKE.CORE.SEMANTIC_CATEGORY,\n",
    "    COLUMN birthday_date UNSET TAG governance.pii, SNOWFLAKE.CORE.PRIVACY_CATEGORY, SNOWFLAKE.CORE.SEMANTIC_CATEGORY,\n",
    "    COLUMN country UNSET TAG governance.pii, SNOWFLAKE.CORE.PRIVACY_CATEGORY, SNOWFLAKE.CORE.SEMANTIC_CATEGORY,\n",
    "    COLUMN city UNSET TAG governance.pii, SNOWFLAKE.CORE.PRIVACY_CATEGORY, SNOWFLAKE.CORE.SEMANTIC_CATEGORY;\n"
   ],
   "id": "ce110000-1111-2222-3333-ffffff000096"
  },
  {
   "cell_type": "markdown",
   "metadata": {
    "name": "cell98"
   },
   "source": [
    "PIIタグを削除し、クエリタグを解除し、ウェアハウスを一時停止\n"
   ],
   "id": "ce110000-1111-2222-3333-ffffff000097"
  },
  {
   "cell_type": "code",
   "execution_count": null,
   "metadata": {
    "name": "cell99",
    "language": "sql"
   },
   "outputs": [],
   "source": [
    "DROP TAG IF EXISTS governance.pii;\n",
    "ALTER SESSION UNSET query_tag;\n",
    "ALTER WAREHOUSE tb_dev_wh SUSPEND;\n"
   ],
   "id": "ce110000-1111-2222-3333-ffffff000098"
  }
 ]
}
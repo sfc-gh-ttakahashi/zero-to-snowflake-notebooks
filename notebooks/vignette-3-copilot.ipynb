{
 "metadata": {
  "language_info": {
   "name": "python"
  },
  "lastEditStatus": {
   "notebookId": "3qm2dzv5pjvwowf3wzrf",
   "authorId": "3933357949396",
   "authorName": "TTAKAHASHI",
   "authorEmail": "tatsuya.takahashi@snowflake.com",
   "sessionId": "b64d1535-91cb-412c-a6b2-f88beb66417d",
   "lastEditTime": 1760960057718
  }
 },
 "nbformat_minor": 2,
 "nbformat": 4,
 "cells": [
  {
   "cell_type": "markdown",
   "metadata": {
    "name": "cell1",
    "collapsed": false
   },
   "source": "# Zero to Snowflake - Snowflake Copilot\n\n```\nAsset:        Zero to Snowflake - Snowflake Copilot\nVersion:      v1     \nCopyright(c): 2025 Snowflake Inc. All rights reserved.\n```\n\nこのセクションに関しては、SQL ワークシートで実施するべし。\n\n![IMAGES](https://lh3.googleusercontent.com/pw/AP1GczM8g1EfweygEUFFUqNwHxxCzzR3fwlSMGNV9RaPQiVNq-m48RGWKdPeoodrxOZW2XsTYoV0KQ3_UfYPmJhS0GM57bZI_KvCkEwaR2onIAHqMTZEsOKHpWeGcGj5xs23X-bRL7qXSLl3jElg7-8YSPMW=w1500-h844-s-no-gm?authuser=0)",
   "id": "ce110000-1111-2222-3333-ffffff000000"
  },
  {
   "cell_type": "code",
   "execution_count": null,
   "metadata": {
    "vscode": {
     "languageId": "sql"
    },
    "name": "cell2",
    "language": "sql"
   },
   "outputs": [],
   "source": [
    "ALTER SESSION SET query_tag = '{\"origin\":\"sf_sit-is\",\"name\":\"tb_101_v2_copilot\",\"version\":{\"major\":1, \"minor\":1},\"attributes\":{\"is_quickstart\":0, \"source\":\"tastybytes\", \"vignette\": \"snowflake_copilot\"}}';\n"
   ],
   "id": "ce110000-1111-2222-3333-ffffff000001"
  },
  {
   "cell_type": "markdown",
   "metadata": {
    "name": "cell3"
   },
   "source": [
    "洗練されたクエリを構築し、より深いビジネスインサイトを得るためにSnowflake Copilotを活用することを意図したTasteBytesデータアナリストの役割を担うので、適切にコンテキストを設定しましょう。\n"
   ],
   "id": "ce110000-1111-2222-3333-ffffff000002"
  },
  {
   "cell_type": "markdown",
   "metadata": {
    "name": "cell4"
   },
   "source": [
    "## 1. Snowflake Copilotへのアクセスとコンテキストの設定\n",
    "\n",
    "Snowflake Copilotの使用を開始するには、以下の手順に従ってください：\n"
   ],
   "id": "ce110000-1111-2222-3333-ffffff000003"
  },
  {
   "cell_type": "markdown",
   "metadata": {
    "name": "cell5"
   },
   "source": [
    "開始前に、コンテキストを設定します\n"
   ],
   "id": "ce110000-1111-2222-3333-ffffff000004"
  },
  {
   "cell_type": "code",
   "execution_count": null,
   "metadata": {
    "vscode": {
     "languageId": "sql"
    },
    "name": "cell6",
    "language": "sql"
   },
   "outputs": [],
   "source": [
    "USE ROLE tb_analyst;\n",
    "USE WAREHOUSE tb_analyst_wh;\n",
    "USE DATABASE tb_101;\n",
    "USE SCHEMA harmonized;\n"
   ],
   "id": "ce110000-1111-2222-3333-ffffff000005"
  },
  {
   "cell_type": "markdown",
   "metadata": {
    "name": "cell7"
   },
   "source": [
    "## 2. Copilotでの要件変換\n",
    "\n",
    "まず、Copilotの自然言語理解機能を使用して、Tasty Bytesデータセットについてどのような分析質問ができるかを探ってみましょう。Copilotメッセージボックスに以下の質問を入力し、実行をクリックしてクエリの結果を確認してください：\n",
    "\n",
    "**プロンプト1:** 顧客レビューのセンチメントと顧客ロイヤリティ指標および注文行動を関連付けるクエリをどのように構造化すればよいですか？レビューセンチメントデータと注文情報を含む顧客ロイヤリティ指標テーブルがあります。顧客が言うことと実際の購入パターンとの関係を理解する必要があります。\n"
   ],
   "id": "ce110000-1111-2222-3333-ffffff000006"
  },
  {
   "cell_type": "markdown",
   "metadata": {
    "name": "cell8"
   },
   "source": [
    "### 主要なインサイト：\n",
    "Copilotは、スキーマを認識したビジネスインテリジェンスを提供し、特定のTasty Bytesテーブルを直接分析し、実際の列名を使用した戦略的分析を提案します。これは汎用AIではありません；データ構造を深く理解した目的構築型インテリジェンスです。\n"
   ],
   "id": "ce110000-1111-2222-3333-ffffff000007"
  },
  {
   "cell_type": "markdown",
   "metadata": {
    "name": "cell9"
   },
   "source": [
    "## 3. Copilotでの複雑なクエリ構築\n",
    "\n",
    "シンプルなビジネス質問から複数のテーブル結合を含む複雑なSQLを生成するためにCopilotを使用してみましょう。\n",
    "\n",
    "同じCopilotパネルで、以下のビジネス質問を貼り付けて実行をクリックし、結果を確認してください：\n",
    "\n",
    "**プロンプト2:** 否定的なレビューを残している高価値顧客を見せてください。私たちに多く支出しているが、フィードバックに基づいて不満を持っているようにみえる顧客を理解したいです\n"
   ],
   "id": "ce110000-1111-2222-3333-ffffff000008"
  },
  {
   "cell_type": "markdown",
   "metadata": {
    "name": "cell10"
   },
   "source": [
    "### 主要なインサイト：\n",
    "Copilotがシンプルなビジネス質問を、複雑な分析ロジックと実行可能な結果を持つ本格的な顧客インテリジェンスに変換する方法に注目してください—SQLの専門知識を必要とせずに。これはCopilotのコア価値を示しています：戦略的質問を平易な英語で投げかけ、通常はデータエンジニアリングスキルを要求する企業級分析を即座に受け取ることができます。\n"
   ],
   "id": "ce110000-1111-2222-3333-ffffff000009"
  },
  {
   "cell_type": "markdown",
   "metadata": {
    "name": "cell11"
   },
   "source": [
    "---\n",
    "\n",
    "## まとめ\n",
    "\n",
    "Snowflake Copilotは、複雑なビジネス質問を洗練されたSQLクエリに簡単に変換することでビジネスインテリジェンスを根本的に変革します。Tasty Bytesで実演されたように、技術者と非技術者の両方のユーザーが、深いSQL専門知識なしにデータから実行可能なインサイトを導出することを可能にします。Snowflake Cortex内で微調整されたこのLLM搭載アシスタントは、スキーマを認識した目的構築型インテリジェンスを提供し、堅牢なデータガバナンスを確保し、すべての企業データをSnowflake内で安全に保持します。Copilotは単なる汎用AIではありません；運営インサイトとビジネスインテリジェンスを橋渡しする戦略的ツールであり、組織が顧客の発言内容だけでなく、それがロイヤリティと購買行動にどのような影響を与えるかを理解できるようにします\n"
   ],
   "id": "ce110000-1111-2222-3333-ffffff000010"
  }
 ]
}
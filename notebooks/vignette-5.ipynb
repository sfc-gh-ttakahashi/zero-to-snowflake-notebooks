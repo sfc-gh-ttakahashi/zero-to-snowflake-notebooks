{
 "metadata": {
  "language_info": {
   "name": "python"
  },
  "lastEditStatus": {
   "notebookId": "adbg5qlmobbrob5x362e",
   "authorId": "3933357949396",
   "authorName": "TTAKAHASHI",
   "authorEmail": "tatsuya.takahashi@snowflake.com",
   "sessionId": "03b984a0-a1a0-4f49-bc45-b5f6c467fbad",
   "lastEditTime": 1760964609949
  }
 },
 "nbformat_minor": 2,
 "nbformat": 4,
 "cells": [
  {
   "cell_type": "markdown",
   "metadata": {
    "name": "cell1",
    "collapsed": false
   },
   "source": "# Zero to Snowflake - Apps and Collaboration\n\n```\nAsset:        Zero to Snowflake - Getting Started with Snowflake\nVersion:      v1     \nCopyright(c): 2025 Snowflake Inc. All rights reserved.\n```\n\n![IMAGES](https://lh3.googleusercontent.com/pw/AP1GczOWhW52Agi2DlC4lmdRE7XlE-Mx7d7u04zHWKU9qb6zmTmwuDhWTUMwAU76ZtAsz-AGzIMaCthS69JCdFl8hXlHQSy9R_LNBXXfJ2JVMd_Z0Xbyzv01pUl3Go-jTKX10JDo98veECSzk4hVrLngzkTz=w1500-h844-s-no-gm?authuser=0)\n\n## 目次\n1. Snowflake Marketplaceからの気象データ取得\n2. アカウントデータと気象ソースデータの統合\n3. Safegraph POIデータの探索\n4. SnowflakeでのStreamlitの紹介\n",
   "id": "ce110000-1111-2222-3333-ffffff000000"
  },
  {
   "cell_type": "code",
   "execution_count": null,
   "metadata": {
    "name": "cell2",
    "language": "sql"
   },
   "outputs": [],
   "source": [
    "ALTER SESSION SET query_tag = '{\"origin\":\"sf_sit-is\",\"name\":\"tb_101_v2\",\"version\":{\"major\":1, \"minor\":1},\"attributes\":{\"is_quickstart\":0, \"source\":\"tastybytes\", \"vignette\": \"apps_and_collaboration\"}}';\n"
   ],
   "id": "ce110000-1111-2222-3333-ffffff000001"
  },
  {
   "cell_type": "markdown",
   "metadata": {
    "name": "cell3"
   },
   "source": [
    "ワークシートコンテキストを設定\n"
   ],
   "id": "ce110000-1111-2222-3333-ffffff000002"
  },
  {
   "cell_type": "code",
   "execution_count": null,
   "metadata": {
    "name": "cell4",
    "language": "sql"
   },
   "outputs": [],
   "source": [
    "USE DATABASE tb_101;\n",
    "USE ROLE accountadmin;\n",
    "USE WAREHOUSE tb_de_wh;\n"
   ],
   "id": "ce110000-1111-2222-3333-ffffff000003"
  },
  {
   "cell_type": "markdown",
   "metadata": {
    "name": "cell5"
   },
   "source": [
    "## 1. Snowflake Marketplaceからの気象データ取得\n",
    "\n",
    "**ユーザーガイド:**  \n",
    "https://docs.snowflake.com/en/user-guide/data-sharing-intro\n",
    "\n",
    "ジュニアアナリストのBenは、天気が米国のフードトラック売上にどのような影響を与えるかについてより良い洞察を得たいと考えています。このために、Snowflake Marketplaceを使用してアカウントに気象データを追加し、独自のTasteBytesデータと照会して全く新しい洞察を発見します。\n",
    "\n",
    "Snowflake Marketplaceは、第三者のデータ、アプリケーション、AI製品の幅広い種類を発見し、アクセスできる中央ハブを提供します。この安全なデータ共有により、重複なしにライブでクエリ準備済みのデータにアクセスできるようになります。\n",
    "\n",
    "### Weather Sourceデータを取得する手順：\n",
    "1. アカウントレベルからaccountadminを使用していることを確認してください（左下角を確認）。\n",
    "2. ナビゲーションメニューから「データ製品」ページに移動します。必要に応じて新しいブラウザタブで開くことができます。\n",
    "3. 検索バーに「Weather Source frostbyte」と入力します。\n",
    "4. 「Weather Source LLC: frostbyte」リストを選択し、「取得」をクリックします。\n",
    "5. 「オプション」をクリックしてオプションセクションを展開します。\n",
    "6. データベース名を「ZTS_WEATHERSOURCE」に変更します。\n",
    "7. 「PUBLIC」にアクセスを許可します。\n",
    "8. 「完了」を押します。\n",
    "\n",
    "このプロセスにより、Weather Sourceデータにほぼ瞬時にアクセスできるようになります。従来のデータ複製とパイプラインの必要性を排除することで、アナリストはビジネス質問から実行可能な分析に直接移行できます。\n",
    "\n",
    "気象データがアカウントに追加されたので、TasteBytesアナリストは既存の位置データと即座に結合を開始できます。\n"
   ],
   "id": "ce110000-1111-2222-3333-ffffff000004"
  },
  {
   "cell_type": "markdown",
   "metadata": {
    "name": "cell6"
   },
   "source": [
    "アナリストロールに切り替え\n"
   ],
   "id": "ce110000-1111-2222-3333-ffffff000005"
  },
  {
   "cell_type": "code",
   "execution_count": null,
   "metadata": {
    "name": "cell7",
    "language": "sql"
   },
   "outputs": [],
   "source": [
    "USE ROLE tb_analyst;\n"
   ],
   "id": "ce110000-1111-2222-3333-ffffff000006"
  },
  {
   "cell_type": "markdown",
   "metadata": {
    "name": "cell8"
   },
   "source": [
    "## 2. アカウントデータと気象ソースデータの統合\n",
    "\n",
    "Weather Sourceシェアからのデータで生の位置データを調和させる前に、データシェアを直接クエリして、作業しているデータの感覚を得ることができます。気象データで利用可能なすべての異なる都市のリストを、その特定の都市の気象指標とともに取得することから始めます。\n"
   ],
   "id": "ce110000-1111-2222-3333-ffffff000007"
  },
  {
   "cell_type": "code",
   "execution_count": null,
   "metadata": {
    "name": "cell9",
    "language": "sql"
   },
   "outputs": [],
   "source": [
    "SELECT \n",
    "    DISTINCT city_name,\n",
    "    AVG(max_wind_speed_100m_mph) AS avg_wind_speed_mph,\n",
    "    AVG(avg_temperature_air_2m_f) AS avg_temp_f,\n",
    "    AVG(tot_precipitation_in) AS avg_precipitation_in,\n",
    "    MAX(tot_snowfall_in) AS max_snowfall_in\n",
    "FROM zts_weathersource.onpoint_id.history_day\n",
    "WHERE country = 'US'\n",
    "GROUP BY city_name;\n"
   ],
   "id": "ce110000-1111-2222-3333-ffffff000008"
  },
  {
   "cell_type": "markdown",
   "metadata": {
    "name": "cell10"
   },
   "source": [
    "次に、生の国データをWeather Sourceデータシェアの歴史的日次気象データと結合するビューを作成しましょう。\n"
   ],
   "id": "ce110000-1111-2222-3333-ffffff000009"
  },
  {
   "cell_type": "code",
   "execution_count": null,
   "metadata": {
    "name": "cell11",
    "language": "sql"
   },
   "outputs": [],
   "source": [
    "CREATE OR REPLACE VIEW harmonized.daily_weather_v\n",
    "COMMENT = 'TastyBytesサポート都市にフィルタリングされたWeather Source日次履歴'\n",
    "    AS\n",
    "SELECT\n",
    "    hd.*,\n",
    "    TO_VARCHAR(hd.date_valid_std, 'YYYY-MM') AS yyyy_mm,\n",
    "    pc.city_name AS city,\n",
    "    c.country AS country_desc\n",
    "FROM zts_weathersource.onpoint_id.history_day hd\n",
    "JOIN zts_weathersource.onpoint_id.postal_codes pc\n",
    "    ON pc.postal_code = hd.postal_code\n",
    "    AND pc.country = hd.country\n",
    "JOIN raw_pos.country c\n",
    "    ON c.iso_country = hd.country\n",
    "    AND c.city = hd.city_name;\n"
   ],
   "id": "ce110000-1111-2222-3333-ffffff000010"
  },
  {
   "cell_type": "markdown",
   "metadata": {
    "name": "cell12"
   },
   "source": [
    "日次気象履歴ビューを使用して、Benは2022年2月のハンブルクの平均日次気象温度を見つけて、線グラフとして可視化したいと考えています。\n",
    "\n",
    "**<SQLワークシート利用時>**  \n",
    "結果ペインで「チャート」をクリックして結果をグラフィカルに可視化します。チャートビューで、「チャートタイプ」と表示されている左側のセクションで、以下の設定を構成してください：\n",
    "\n",
    "チャートタイプ：線グラフ | X軸：DATE_VALID_STD | Y軸：AVERAGE_TEMP_F\n"
   ],
   "id": "ce110000-1111-2222-3333-ffffff000011"
  },
  {
   "cell_type": "code",
   "execution_count": null,
   "metadata": {
    "name": "cell13",
    "language": "sql"
   },
   "outputs": [],
   "source": [
    "SELECT\n",
    "    dw.country_desc,\n",
    "    dw.city_name,\n",
    "    dw.date_valid_std,\n",
    "    AVG(dw.avg_temperature_air_2m_f) AS average_temp_f\n",
    "FROM harmonized.daily_weather_v dw\n",
    "WHERE dw.country_desc = 'Germany'\n",
    "    AND dw.city_name = 'Hamburg'\n",
    "    AND YEAR(date_valid_std) = 2022\n",
    "    AND MONTH(date_valid_std) = 2 -- 2月\n",
    "GROUP BY dw.country_desc, dw.city_name, dw.date_valid_std\n",
    "ORDER BY dw.date_valid_std DESC;\n"
   ],
   "id": "ce110000-1111-2222-3333-ffffff000012"
  },
  {
   "cell_type": "markdown",
   "metadata": {
    "name": "cell14"
   },
   "source": [
    "日次気象ビューは素晴らしく機能しています！さらに一歩進んで、注文ビューと日次気象ビューを組み合わせて、気象による日次売上ビューを作成しましょう。これにより、売上と気象条件との間のトレンドと関係を発見できます。\n"
   ],
   "id": "ce110000-1111-2222-3333-ffffff000013"
  },
  {
   "cell_type": "code",
   "execution_count": null,
   "metadata": {
    "name": "cell15",
    "language": "sql"
   },
   "outputs": [],
   "source": [
    "CREATE OR REPLACE VIEW analytics.daily_sales_by_weather_v\n",
    "COMMENT = '日次気象指標と注文データ'\n",
    "AS\n",
    "WITH daily_orders_aggregated AS (\n",
    "    SELECT\n",
    "        DATE(o.order_ts) AS order_date,\n",
    "        o.primary_city,\n",
    "        o.country,\n",
    "        o.menu_item_name,\n",
    "        SUM(o.price) AS total_sales\n",
    "    FROM\n",
    "        harmonized.orders_v o\n",
    "    GROUP BY ALL\n",
    ")\n",
    "SELECT\n",
    "    dw.date_valid_std AS date,\n",
    "    dw.city_name,\n",
    "    dw.country_desc,\n",
    "    ZEROIFNULL(doa.total_sales) AS daily_sales,\n",
    "    doa.menu_item_name,\n",
    "    ROUND(dw.avg_temperature_air_2m_f, 2) AS avg_temp_fahrenheit,\n",
    "    ROUND(dw.tot_precipitation_in, 2) AS avg_precipitation_inches,\n",
    "    ROUND(dw.tot_snowdepth_in, 2) AS avg_snowdepth_inches,\n",
    "    dw.max_wind_speed_100m_mph AS max_wind_speed_mph\n",
    "FROM\n",
    "    harmonized.daily_weather_v dw\n",
    "LEFT JOIN\n",
    "    daily_orders_aggregated doa\n",
    "    ON dw.date_valid_std = doa.order_date\n",
    "    AND dw.city_name = doa.primary_city\n",
    "    AND dw.country_desc = doa.country\n",
    "ORDER BY \n",
    "    date ASC;\n"
   ],
   "id": "ce110000-1111-2222-3333-ffffff000014"
  },
  {
   "cell_type": "markdown",
   "metadata": {
    "name": "cell16"
   },
   "source": [
    "Benは気象による日次売上ビューを使用して、天気が売上にどのような影響を与えるかを発見できるようになりました。これは以前は探索されていなかった関係で、シアトル市場で大雨が売上数値にどのような影響を与えるかなどの質問に答え始めることができます。\n",
    "\n",
    "**<SQLワークシート利用時>**  \n",
    "チャートタイプ：棒グラフ | X軸：MENU_ITEM_NAME | Y軸：DAILY_SALES\n"
   ],
   "id": "ce110000-1111-2222-3333-ffffff000015"
  },
  {
   "cell_type": "code",
   "execution_count": null,
   "metadata": {
    "name": "cell17",
    "language": "sql"
   },
   "outputs": [],
   "source": [
    "SELECT * EXCLUDE (city_name, country_desc, avg_snowdepth_inches, max_wind_speed_mph)\n",
    "FROM analytics.daily_sales_by_weather_v\n",
    "WHERE \n",
    "    country_desc = 'United States'\n",
    "    AND city_name = 'Seattle'\n",
    "    AND avg_precipitation_inches >= 1.0\n",
    "ORDER BY date ASC;\n"
   ],
   "id": "ce110000-1111-2222-3333-ffffff000016"
  },
  {
   "cell_type": "markdown",
   "metadata": {
    "name": "cell18"
   },
   "source": [
    "## 3. Safegraph POIデータの探索\n",
    "\n",
    "Benは、フードトラックの位置での気象条件についてより多くの洞察を得たいと考えています。幸い、SafegraphはSnowflake Marketplaceで無料のPOI（関心地点）データを提供しています。\n",
    "\n",
    "### このデータリストを使用するために、以前の気象データと同様の手順に従います：\n",
    "1. アカウントレベルからaccountadminを使用していることを確認してください（左下角を確認）。\n",
    "2. ナビゲーションメニューから「データ製品」ページに移動します。必要に応じて新しいブラウザタブで開くことができます。\n",
    "3. 検索バーに「safegraph frostbyte」と入力します。\n",
    "4. 「Safegraph: frostbyte」リストを選択し、「取得」をクリックします。\n",
    "5. 「オプション」をクリックしてオプションセクションを展開します。\n",
    "6. データベース名：「ZTS_SAFEGRAPH」\n",
    "7. 「PUBLIC」にアクセスを許可します。\n",
    "8. 「完了」を押します。\n",
    "\n",
    "SafegraphのPOIデータをFrostbyteの気象データセットや独自の内部`orders_v`テーブルと結合することで、高リスクな位置を特定し、外的要因による財務的影響を定量化できます。\n"
   ],
   "id": "ce110000-1111-2222-3333-ffffff000017"
  },
  {
   "cell_type": "code",
   "execution_count": null,
   "metadata": {
    "name": "cell19",
    "language": "sql"
   },
   "outputs": [],
   "source": [
    "CREATE OR REPLACE VIEW harmonized.tastybytes_poi_v\n",
    "AS \n",
    "SELECT \n",
    "    l.location_id,\n",
    "    sg.postal_code,\n",
    "    sg.country,\n",
    "    sg.city,\n",
    "    sg.iso_country_code,\n",
    "    sg.location_name,\n",
    "    sg.top_category,\n",
    "    sg.category_tags,\n",
    "    sg.includes_parking_lot,\n",
    "    sg.open_hours\n",
    "FROM raw_pos.location l\n",
    "JOIN zts_safegraph.public.frostbyte_tb_safegraph_s sg \n",
    "    ON l.location_id = sg.location_id\n",
    "    AND l.iso_country_code = sg.iso_country_code;\n"
   ],
   "id": "ce110000-1111-2222-3333-ffffff000018"
  },
  {
   "cell_type": "markdown",
   "metadata": {
    "name": "cell20"
   },
   "source": [
    "POIデータを気象データと照会して、2022年の米国で平均して最も風の強い上位3つの位置を見つけましょう。\n"
   ],
   "id": "ce110000-1111-2222-3333-ffffff000019"
  },
  {
   "cell_type": "code",
   "execution_count": null,
   "metadata": {
    "name": "cell21",
    "language": "sql"
   },
   "outputs": [],
   "source": [
    "SELECT TOP 3\n",
    "    p.location_id,\n",
    "    p.city,\n",
    "    p.postal_code,\n",
    "    AVG(hd.max_wind_speed_100m_mph) AS average_wind_speed\n",
    "FROM harmonized.tastybytes_poi_v AS p\n",
    "JOIN\n",
    "    zts_weathersource.onpoint_id.history_day AS hd\n",
    "    ON p.postal_code = hd.postal_code\n",
    "WHERE\n",
    "    p.country = 'United States'\n",
    "    AND YEAR(hd.date_valid_std) = 2022\n",
    "GROUP BY p.location_id, p.city, p.postal_code\n",
    "ORDER BY average_wind_speed DESC;\n"
   ],
   "id": "ce110000-1111-2222-3333-ffffff000020"
  },
  {
   "cell_type": "markdown",
   "metadata": {
    "name": "cell22"
   },
   "source": [
    "前回のクエリからのlocation_idsを使用して、異なる気象条件下での売上パフォーマンスを直接比較したいと思います。共通テーブル式（CTE）を使用して、上記のクエリをサブクエリとして使用し、最高の平均風速を持つ上位3つの位置を見つけ、それらの特定の位置の売上データを分析できます。共通テーブル式は、複雑なクエリをより小さな異なるクエリに分割して、可読性とパフォーマンスを向上させるのに役立ちます。\n",
    "\n",
    "各トラックブランドの売上データを2つのバケットに分割します：その日の最大風速が20mph以下だった「穏やか」な日と、20mphを超えた「風の強い」日です。\n",
    "\n",
    "これのビジネスへの影響は、ブランドの気象に対する耐性を特定することです。これらの売上数値を並べて見ることで、どのブランドが「気象耐性」があり、どのブランドが強風で売上が大幅に低下するかを即座に特定できます。これにより、脆弱なブランドの「風の強い日」プロモーションの実行、在庫の調整、ブランドのメニューを位置の典型的な気象により適合させる将来のトラック配置戦略の情報提供など、より良い情報に基づいた運営決定が可能になります。\n"
   ],
   "id": "ce110000-1111-2222-3333-ffffff000021"
  },
  {
   "cell_type": "code",
   "execution_count": null,
   "metadata": {
    "name": "cell23",
    "language": "sql"
   },
   "outputs": [],
   "source": [
    "WITH TopWindiestLocations AS (\n",
    "    SELECT TOP 3\n",
    "        p.location_id\n",
    "    FROM harmonized.tastybytes_poi_v AS p\n",
    "    JOIN\n",
    "        zts_weathersource.onpoint_id.history_day AS hd\n",
    "        ON p.postal_code = hd.postal_code\n",
    "    WHERE\n",
    "        p.country = 'United States'\n",
    "        AND YEAR(hd.date_valid_std) = 2022\n",
    "    GROUP BY p.location_id, p.city, p.postal_code\n",
    "    ORDER BY AVG(hd.max_wind_speed_100m_mph) DESC\n",
    ")\n",
    "SELECT\n",
    "    o.truck_brand_name,\n",
    "    ROUND(\n",
    "        AVG(CASE WHEN hd.max_wind_speed_100m_mph <= 20 THEN o.order_total END),\n",
    "    2) AS avg_sales_calm_days,\n",
    "    ZEROIFNULL(ROUND(\n",
    "        AVG(CASE WHEN hd.max_wind_speed_100m_mph > 20 THEN o.order_total END),\n",
    "    2)) AS avg_sales_windy_days\n",
    "FROM analytics.orders_v AS o\n",
    "JOIN\n",
    "    zts_weathersource.onpoint_id.history_day AS hd\n",
    "    ON o.primary_city = hd.city_name\n",
    "    AND DATE(o.order_ts) = hd.date_valid_std\n",
    "WHERE o.location_id IN (SELECT location_id FROM TopWindiestLocations)\n",
    "GROUP BY o.truck_brand_name\n",
    "ORDER BY o.truck_brand_name;\n"
   ],
   "id": "ce110000-1111-2222-3333-ffffff000022"
  },
  {
   "cell_type": "markdown",
   "metadata": {
    "name": "cell24"
   },
   "source": [
    "---\n",
    "\n",
    "## Reset Script\n",
    "\n",
    "---\n"
   ],
   "id": "ce110000-1111-2222-3333-ffffff000023"
  },
  {
   "cell_type": "code",
   "execution_count": null,
   "metadata": {
    "name": "cell25",
    "language": "sql"
   },
   "outputs": [],
   "source": [
    "USE ROLE accountadmin;\n",
    "\n",
    "-- ビューの削除\n",
    "DROP VIEW IF EXISTS harmonized.daily_weather_v;\n",
    "DROP VIEW IF EXISTS analytics.daily_sales_by_weather_v;\n",
    "DROP VIEW IF EXISTS harmonized.tastybytes_poi_v;\n"
   ],
   "id": "ce110000-1111-2222-3333-ffffff000024"
  },
  {
   "cell_type": "markdown",
   "metadata": {
    "name": "cell26"
   },
   "source": [
    "クエリタグの解除とウェアハウスの一時停止\n"
   ],
   "id": "ce110000-1111-2222-3333-ffffff000025"
  },
  {
   "cell_type": "code",
   "execution_count": null,
   "metadata": {
    "name": "cell27",
    "language": "sql"
   },
   "outputs": [],
   "source": [
    "ALTER SESSION UNSET query_tag;\n",
    "-- ウェアハウスの一時停止\n",
    "ALTER WAREHOUSE tb_de_wh SUSPEND;\n"
   ],
   "id": "ce110000-1111-2222-3333-ffffff000026"
  }
 ]
}